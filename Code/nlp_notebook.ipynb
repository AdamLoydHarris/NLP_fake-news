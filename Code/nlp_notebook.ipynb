{
 "cells": [
  {
   "cell_type": "code",
   "execution_count": 4,
   "metadata": {},
   "outputs": [
    {
     "name": "stderr",
     "output_type": "stream",
     "text": [
      "[nltk_data] Downloading package stopwords to\n",
      "[nltk_data]     /Users/AdamHarris/nltk_data...\n",
      "[nltk_data]   Package stopwords is already up-to-date!\n"
     ]
    }
   ],
   "source": [
    "import nlp_preprocessing\n",
    "import numpy  as np\n",
    "import pandas as pd\n",
    "import seaborn as sns\n",
    "from sklearn.feature_extraction.text import CountVectorizer\n",
    "import matplotlib.pyplot as plt\n",
    "import json"
   ]
  },
  {
   "cell_type": "code",
   "execution_count": 5,
   "metadata": {},
   "outputs": [],
   "source": [
    "data_path = r\"/Users/AdamHarris/Documents/neuromatch_nlp/Neuromatch_NLP/dataset/\"\n",
    "json_path = r'/Users/AdamHarris/Documents/neuromatch_nlp/Neuromatch_NLP/dataset/nrc_en.json'\n",
    "true_data = pd.read_csv(f\"{data_path}True.csv\")\n",
    "true_data['label']=0\n",
    "\n",
    "fake_data = pd.read_csv(f\"{data_path}Fake.csv\")\n",
    "fake_data['label']=1\n",
    "\n",
    "data_all = pd.concat([true_data, fake_data], ignore_index=True)\n"
   ]
  },
  {
   "cell_type": "code",
   "execution_count": 12,
   "metadata": {},
   "outputs": [
    {
     "data": {
      "text/html": [
       "<div>\n",
       "<style scoped>\n",
       "    .dataframe tbody tr th:only-of-type {\n",
       "        vertical-align: middle;\n",
       "    }\n",
       "\n",
       "    .dataframe tbody tr th {\n",
       "        vertical-align: top;\n",
       "    }\n",
       "\n",
       "    .dataframe thead th {\n",
       "        text-align: right;\n",
       "    }\n",
       "</style>\n",
       "<table border=\"1\" class=\"dataframe\">\n",
       "  <thead>\n",
       "    <tr style=\"text-align: right;\">\n",
       "      <th></th>\n",
       "      <th>title</th>\n",
       "      <th>text</th>\n",
       "      <th>subject</th>\n",
       "      <th>date</th>\n",
       "      <th>label</th>\n",
       "    </tr>\n",
       "  </thead>\n",
       "  <tbody>\n",
       "    <tr>\n",
       "      <th>0</th>\n",
       "      <td>As U.S. budget fight looms, Republicans flip t...</td>\n",
       "      <td>WASHINGTON (Reuters) - The head of a conservat...</td>\n",
       "      <td>politicsNews</td>\n",
       "      <td>December 31, 2017</td>\n",
       "      <td>0</td>\n",
       "    </tr>\n",
       "    <tr>\n",
       "      <th>1</th>\n",
       "      <td>U.S. military to accept transgender recruits o...</td>\n",
       "      <td>WASHINGTON (Reuters) - Transgender people will...</td>\n",
       "      <td>politicsNews</td>\n",
       "      <td>December 29, 2017</td>\n",
       "      <td>0</td>\n",
       "    </tr>\n",
       "    <tr>\n",
       "      <th>2</th>\n",
       "      <td>Senior U.S. Republican senator: 'Let Mr. Muell...</td>\n",
       "      <td>WASHINGTON (Reuters) - The special counsel inv...</td>\n",
       "      <td>politicsNews</td>\n",
       "      <td>December 31, 2017</td>\n",
       "      <td>0</td>\n",
       "    </tr>\n",
       "    <tr>\n",
       "      <th>3</th>\n",
       "      <td>FBI Russia probe helped by Australian diplomat...</td>\n",
       "      <td>WASHINGTON (Reuters) - Trump campaign adviser ...</td>\n",
       "      <td>politicsNews</td>\n",
       "      <td>December 30, 2017</td>\n",
       "      <td>0</td>\n",
       "    </tr>\n",
       "    <tr>\n",
       "      <th>4</th>\n",
       "      <td>Trump wants Postal Service to charge 'much mor...</td>\n",
       "      <td>SEATTLE/WASHINGTON (Reuters) - President Donal...</td>\n",
       "      <td>politicsNews</td>\n",
       "      <td>December 29, 2017</td>\n",
       "      <td>0</td>\n",
       "    </tr>\n",
       "    <tr>\n",
       "      <th>...</th>\n",
       "      <td>...</td>\n",
       "      <td>...</td>\n",
       "      <td>...</td>\n",
       "      <td>...</td>\n",
       "      <td>...</td>\n",
       "    </tr>\n",
       "    <tr>\n",
       "      <th>44893</th>\n",
       "      <td>McPain: John McCain Furious That Iran Treated ...</td>\n",
       "      <td>21st Century Wire says As 21WIRE reported earl...</td>\n",
       "      <td>Middle-east</td>\n",
       "      <td>January 16, 2016</td>\n",
       "      <td>1</td>\n",
       "    </tr>\n",
       "    <tr>\n",
       "      <th>44894</th>\n",
       "      <td>JUSTICE? Yahoo Settles E-mail Privacy Class-ac...</td>\n",
       "      <td>21st Century Wire says It s a familiar theme. ...</td>\n",
       "      <td>Middle-east</td>\n",
       "      <td>January 16, 2016</td>\n",
       "      <td>1</td>\n",
       "    </tr>\n",
       "    <tr>\n",
       "      <th>44895</th>\n",
       "      <td>Sunnistan: US and Allied ‘Safe Zone’ Plan to T...</td>\n",
       "      <td>Patrick Henningsen  21st Century WireRemember ...</td>\n",
       "      <td>Middle-east</td>\n",
       "      <td>January 15, 2016</td>\n",
       "      <td>1</td>\n",
       "    </tr>\n",
       "    <tr>\n",
       "      <th>44896</th>\n",
       "      <td>How to Blow $700 Million: Al Jazeera America F...</td>\n",
       "      <td>21st Century Wire says Al Jazeera America will...</td>\n",
       "      <td>Middle-east</td>\n",
       "      <td>January 14, 2016</td>\n",
       "      <td>1</td>\n",
       "    </tr>\n",
       "    <tr>\n",
       "      <th>44897</th>\n",
       "      <td>10 U.S. Navy Sailors Held by Iranian Military ...</td>\n",
       "      <td>21st Century Wire says As 21WIRE predicted in ...</td>\n",
       "      <td>Middle-east</td>\n",
       "      <td>January 12, 2016</td>\n",
       "      <td>1</td>\n",
       "    </tr>\n",
       "  </tbody>\n",
       "</table>\n",
       "<p>44898 rows × 5 columns</p>\n",
       "</div>"
      ],
      "text/plain": [
       "                                                   title  \\\n",
       "0      As U.S. budget fight looms, Republicans flip t...   \n",
       "1      U.S. military to accept transgender recruits o...   \n",
       "2      Senior U.S. Republican senator: 'Let Mr. Muell...   \n",
       "3      FBI Russia probe helped by Australian diplomat...   \n",
       "4      Trump wants Postal Service to charge 'much mor...   \n",
       "...                                                  ...   \n",
       "44893  McPain: John McCain Furious That Iran Treated ...   \n",
       "44894  JUSTICE? Yahoo Settles E-mail Privacy Class-ac...   \n",
       "44895  Sunnistan: US and Allied ‘Safe Zone’ Plan to T...   \n",
       "44896  How to Blow $700 Million: Al Jazeera America F...   \n",
       "44897  10 U.S. Navy Sailors Held by Iranian Military ...   \n",
       "\n",
       "                                                    text       subject  \\\n",
       "0      WASHINGTON (Reuters) - The head of a conservat...  politicsNews   \n",
       "1      WASHINGTON (Reuters) - Transgender people will...  politicsNews   \n",
       "2      WASHINGTON (Reuters) - The special counsel inv...  politicsNews   \n",
       "3      WASHINGTON (Reuters) - Trump campaign adviser ...  politicsNews   \n",
       "4      SEATTLE/WASHINGTON (Reuters) - President Donal...  politicsNews   \n",
       "...                                                  ...           ...   \n",
       "44893  21st Century Wire says As 21WIRE reported earl...   Middle-east   \n",
       "44894  21st Century Wire says It s a familiar theme. ...   Middle-east   \n",
       "44895  Patrick Henningsen  21st Century WireRemember ...   Middle-east   \n",
       "44896  21st Century Wire says Al Jazeera America will...   Middle-east   \n",
       "44897  21st Century Wire says As 21WIRE predicted in ...   Middle-east   \n",
       "\n",
       "                     date  label  \n",
       "0      December 31, 2017       0  \n",
       "1      December 29, 2017       0  \n",
       "2      December 31, 2017       0  \n",
       "3      December 30, 2017       0  \n",
       "4      December 29, 2017       0  \n",
       "...                   ...    ...  \n",
       "44893    January 16, 2016      1  \n",
       "44894    January 16, 2016      1  \n",
       "44895    January 15, 2016      1  \n",
       "44896    January 14, 2016      1  \n",
       "44897    January 12, 2016      1  \n",
       "\n",
       "[44898 rows x 5 columns]"
      ]
     },
     "execution_count": 12,
     "metadata": {},
     "output_type": "execute_result"
    }
   ],
   "source": [
    "data_all"
   ]
  },
  {
   "cell_type": "code",
   "execution_count": 4,
   "metadata": {},
   "outputs": [
    {
     "name": "stdout",
     "output_type": "stream",
     "text": [
      "Donald Trump just couldn t wish all Americans a Happy New Year and leave it at that. Instead, he had to give a shout out to his enemies, haters and  the very dishonest fake news media.  The former reality show star had just one job to do and he couldn t do it. As our Country rapidly grows stronger and smarter, I want to wish all of my friends, supporters, enemies, haters, and even the very dishonest Fake News Media, a Happy and Healthy New Year,  President Angry Pants tweeted.  2018 will be a great year for America! As our Country rapidly grows stronger and smarter, I want to wish all of my friends, supporters, enemies, haters, and even the very dishonest Fake News Media, a Happy and Healthy New Year. 2018 will be a great year for America!  Donald J. Trump (@realDonaldTrump) December 31, 2017Trump s tweet went down about as welll as you d expect.What kind of president sends a New Year s greeting like this despicable, petty, infantile gibberish? Only Trump! His lack of decency won t even allow him to rise above the gutter long enough to wish the American citizens a happy new year!  Bishop Talbert Swan (@TalbertSwan) December 31, 2017no one likes you  Calvin (@calvinstowell) December 31, 2017Your impeachment would make 2018 a great year for America, but I ll also accept regaining control of Congress.  Miranda Yaver (@mirandayaver) December 31, 2017Do you hear yourself talk? When you have to include that many people that hate you you have to wonder? Why do the they all hate me?  Alan Sandoval (@AlanSandoval13) December 31, 2017Who uses the word Haters in a New Years wish??  Marlene (@marlene399) December 31, 2017You can t just say happy new year?  Koren pollitt (@Korencarpenter) December 31, 2017Here s Trump s New Year s Eve tweet from 2016.Happy New Year to all, including to my many enemies and those who have fought me and lost so badly they just don t know what to do. Love!  Donald J. Trump (@realDonaldTrump) December 31, 2016This is nothing new for Trump. He s been doing this for years.Trump has directed messages to his  enemies  and  haters  for New Year s, Easter, Thanksgiving, and the anniversary of 9/11. pic.twitter.com/4FPAe2KypA  Daniel Dale (@ddale8) December 31, 2017Trump s holiday tweets are clearly not presidential.How long did he work at Hallmark before becoming President?  Steven Goodine (@SGoodine) December 31, 2017He s always been like this . . . the only difference is that in the last few years, his filter has been breaking down.  Roy Schulze (@thbthttt) December 31, 2017Who, apart from a teenager uses the term haters?  Wendy (@WendyWhistles) December 31, 2017he s a fucking 5 year old  Who Knows (@rainyday80) December 31, 2017So, to all the people who voted for this a hole thinking he would change once he got into power, you were wrong! 70-year-old men don t change and now he s a year older.Photo by Andrew Burton/Getty Images.\n",
      "donald trump wish americans happy new year leave instead give shout enemies haters dishonest fake news media former reality show star one job country rapidly grows stronger smarter want wish friends supporters enemies haters even dishonest fake news media happy healthy new year president angry pants tweeted great year america country rapidly grows stronger smarter want wish friends supporters enemies haters even dishonest fake news media happy healthy new year great year america donald j trump realdonaldtrump december tweet went welll expect kind president sends new year greeting like despicable petty infantile gibberish trump lack decency even allow rise gutter long enough wish american citizens happy new year bishop talbert swan talbertswan december one likes calvin calvinstowell december impeachment would make great year america also accept regaining control congress miranda yaver mirandayaver december hear talk include many people hate wonder hate alan sandoval december uses word haters new years wish marlene december say happy new year koren pollitt korencarpenter december trump new year eve tweet happy new year including many enemies fought lost badly don know love donald j trump realdonaldtrump december nothing new trump years trump directed messages enemies haters new year easter thanksgiving anniversary pic twitter com daniel dale december holiday tweets clearly presidential long work hallmark becoming president steven goodine sgoodine december always like difference last years filter breaking roy schulze thbthttt december apart teenager uses term haters wendy wendywhistles december fucking year old knows december people voted hole thinking would change got power wrong year old men don change year older photo andrew burton getty images\n"
     ]
    }
   ],
   "source": [
    "x = fake_data['text'][0]\n",
    "print(x)\n",
    "x = nlp_preprocessing.wp(x)\n",
    "cleaned_stopwords = nlp_preprocessing.check_stopwords(json_path)\n",
    "x = nlp_preprocessing.remove_stopwords(x, cleaned_stopwords)\n",
    "print(x)"
   ]
  },
  {
   "cell_type": "code",
   "execution_count": 5,
   "metadata": {},
   "outputs": [],
   "source": [
    "def preprocess_all(x):\n",
    "    x = nlp_preprocessing.wp(x)\n",
    "    cleaned_stopwords = nlp_preprocessing.check_stopwords(json_path)\n",
    "    x = nlp_preprocessing.remove_stopwords(x, cleaned_stopwords)\n",
    "    return x"
   ]
  },
  {
   "cell_type": "code",
   "execution_count": 6,
   "metadata": {},
   "outputs": [],
   "source": [
    "preprocessed_text_all = [preprocess_all(i) for i in data_all['text']]\n"
   ]
  },
  {
   "cell_type": "code",
   "execution_count": 13,
   "metadata": {},
   "outputs": [],
   "source": [
    "preprocessed_df = data_all.copy()"
   ]
  },
  {
   "cell_type": "code",
   "execution_count": 14,
   "metadata": {},
   "outputs": [],
   "source": [
    "preprocessed_df['text']=preprocessed_text_all\n",
    "   "
   ]
  },
  {
   "cell_type": "code",
   "execution_count": 19,
   "metadata": {},
   "outputs": [],
   "source": [
    "true_preprocessed = preprocessed_df[preprocessed_df['label']==0].copy()\n",
    "true_preprocessed.to_csv(r'/Users/AdamHarris/Documents/neuromatch_nlp/Neuromatch_NLP/dataset/true_preprocessed.csv')\n",
    "fake_preprocessed = preprocessed_df[preprocessed_df['label']==1].copy()\n",
    "fake_preprocessed.to_csv(r'/Users/AdamHarris/Documents/neuromatch_nlp/Neuromatch_NLP/dataset/fake_preprocessed.csv')"
   ]
  },
  {
   "cell_type": "code",
   "execution_count": 10,
   "metadata": {},
   "outputs": [],
   "source": [
    "data_all.to_csv(r'/Users/AdamHarris/Documents/neuromatch_nlp/Neuromatch_NLP/dataset/preprocessed_data.csv')"
   ]
  },
  {
   "cell_type": "code",
   "execution_count": null,
   "metadata": {},
   "outputs": [],
   "source": []
  },
  {
   "cell_type": "markdown",
   "metadata": {},
   "source": [
    "# Playing around with NLCLex for emotion quantificaton"
   ]
  },
  {
   "cell_type": "code",
   "execution_count": 6,
   "metadata": {},
   "outputs": [],
   "source": [
    "from nrclex import NRCLex"
   ]
  },
  {
   "cell_type": "code",
   "execution_count": 56,
   "metadata": {},
   "outputs": [
    {
     "data": {
      "text/html": [
       "<div>\n",
       "<style scoped>\n",
       "    .dataframe tbody tr th:only-of-type {\n",
       "        vertical-align: middle;\n",
       "    }\n",
       "\n",
       "    .dataframe tbody tr th {\n",
       "        vertical-align: top;\n",
       "    }\n",
       "\n",
       "    .dataframe thead th {\n",
       "        text-align: right;\n",
       "    }\n",
       "</style>\n",
       "<table border=\"1\" class=\"dataframe\">\n",
       "  <thead>\n",
       "    <tr style=\"text-align: right;\">\n",
       "      <th></th>\n",
       "      <th>Unnamed: 0</th>\n",
       "      <th>title</th>\n",
       "      <th>text</th>\n",
       "      <th>subject</th>\n",
       "      <th>date</th>\n",
       "      <th>label</th>\n",
       "    </tr>\n",
       "  </thead>\n",
       "  <tbody>\n",
       "    <tr>\n",
       "      <th>0</th>\n",
       "      <td>0</td>\n",
       "      <td>As U.S. budget fight looms, Republicans flip t...</td>\n",
       "      <td>washington head conservative republican factio...</td>\n",
       "      <td>politicsNews</td>\n",
       "      <td>December 31, 2017</td>\n",
       "      <td>0</td>\n",
       "    </tr>\n",
       "    <tr>\n",
       "      <th>1</th>\n",
       "      <td>1</td>\n",
       "      <td>U.S. military to accept transgender recruits o...</td>\n",
       "      <td>washington transgender people allowed first ti...</td>\n",
       "      <td>politicsNews</td>\n",
       "      <td>December 29, 2017</td>\n",
       "      <td>0</td>\n",
       "    </tr>\n",
       "    <tr>\n",
       "      <th>2</th>\n",
       "      <td>2</td>\n",
       "      <td>Senior U.S. Republican senator: 'Let Mr. Muell...</td>\n",
       "      <td>washington special counsel investigation links...</td>\n",
       "      <td>politicsNews</td>\n",
       "      <td>December 31, 2017</td>\n",
       "      <td>0</td>\n",
       "    </tr>\n",
       "    <tr>\n",
       "      <th>3</th>\n",
       "      <td>3</td>\n",
       "      <td>FBI Russia probe helped by Australian diplomat...</td>\n",
       "      <td>washington trump campaign adviser george papad...</td>\n",
       "      <td>politicsNews</td>\n",
       "      <td>December 30, 2017</td>\n",
       "      <td>0</td>\n",
       "    </tr>\n",
       "    <tr>\n",
       "      <th>4</th>\n",
       "      <td>4</td>\n",
       "      <td>Trump wants Postal Service to charge 'much mor...</td>\n",
       "      <td>seattle washington president donald trump call...</td>\n",
       "      <td>politicsNews</td>\n",
       "      <td>December 29, 2017</td>\n",
       "      <td>0</td>\n",
       "    </tr>\n",
       "    <tr>\n",
       "      <th>...</th>\n",
       "      <td>...</td>\n",
       "      <td>...</td>\n",
       "      <td>...</td>\n",
       "      <td>...</td>\n",
       "      <td>...</td>\n",
       "      <td>...</td>\n",
       "    </tr>\n",
       "    <tr>\n",
       "      <th>21412</th>\n",
       "      <td>21412</td>\n",
       "      <td>'Fully committed' NATO backs new U.S. approach...</td>\n",
       "      <td>brussels nato allies tuesday welcomed presiden...</td>\n",
       "      <td>worldnews</td>\n",
       "      <td>August 22, 2017</td>\n",
       "      <td>0</td>\n",
       "    </tr>\n",
       "    <tr>\n",
       "      <th>21413</th>\n",
       "      <td>21413</td>\n",
       "      <td>LexisNexis withdrew two products from Chinese ...</td>\n",
       "      <td>london lexisnexis provider legal regulatory bu...</td>\n",
       "      <td>worldnews</td>\n",
       "      <td>August 22, 2017</td>\n",
       "      <td>0</td>\n",
       "    </tr>\n",
       "    <tr>\n",
       "      <th>21414</th>\n",
       "      <td>21414</td>\n",
       "      <td>Minsk cultural hub becomes haven from authorities</td>\n",
       "      <td>minsk shadow disused soviet era factories mins...</td>\n",
       "      <td>worldnews</td>\n",
       "      <td>August 22, 2017</td>\n",
       "      <td>0</td>\n",
       "    </tr>\n",
       "    <tr>\n",
       "      <th>21415</th>\n",
       "      <td>21415</td>\n",
       "      <td>Vatican upbeat on possibility of Pope Francis ...</td>\n",
       "      <td>moscow vatican secretary state cardinal pietro...</td>\n",
       "      <td>worldnews</td>\n",
       "      <td>August 22, 2017</td>\n",
       "      <td>0</td>\n",
       "    </tr>\n",
       "    <tr>\n",
       "      <th>21416</th>\n",
       "      <td>21416</td>\n",
       "      <td>Indonesia to buy $1.14 billion worth of Russia...</td>\n",
       "      <td>jakarta indonesia buy sukhoi fighter jets wort...</td>\n",
       "      <td>worldnews</td>\n",
       "      <td>August 22, 2017</td>\n",
       "      <td>0</td>\n",
       "    </tr>\n",
       "  </tbody>\n",
       "</table>\n",
       "<p>21417 rows × 6 columns</p>\n",
       "</div>"
      ],
      "text/plain": [
       "       Unnamed: 0                                              title  \\\n",
       "0               0  As U.S. budget fight looms, Republicans flip t...   \n",
       "1               1  U.S. military to accept transgender recruits o...   \n",
       "2               2  Senior U.S. Republican senator: 'Let Mr. Muell...   \n",
       "3               3  FBI Russia probe helped by Australian diplomat...   \n",
       "4               4  Trump wants Postal Service to charge 'much mor...   \n",
       "...           ...                                                ...   \n",
       "21412       21412  'Fully committed' NATO backs new U.S. approach...   \n",
       "21413       21413  LexisNexis withdrew two products from Chinese ...   \n",
       "21414       21414  Minsk cultural hub becomes haven from authorities   \n",
       "21415       21415  Vatican upbeat on possibility of Pope Francis ...   \n",
       "21416       21416  Indonesia to buy $1.14 billion worth of Russia...   \n",
       "\n",
       "                                                    text       subject  \\\n",
       "0      washington head conservative republican factio...  politicsNews   \n",
       "1      washington transgender people allowed first ti...  politicsNews   \n",
       "2      washington special counsel investigation links...  politicsNews   \n",
       "3      washington trump campaign adviser george papad...  politicsNews   \n",
       "4      seattle washington president donald trump call...  politicsNews   \n",
       "...                                                  ...           ...   \n",
       "21412  brussels nato allies tuesday welcomed presiden...     worldnews   \n",
       "21413  london lexisnexis provider legal regulatory bu...     worldnews   \n",
       "21414  minsk shadow disused soviet era factories mins...     worldnews   \n",
       "21415  moscow vatican secretary state cardinal pietro...     worldnews   \n",
       "21416  jakarta indonesia buy sukhoi fighter jets wort...     worldnews   \n",
       "\n",
       "                     date  label  \n",
       "0      December 31, 2017       0  \n",
       "1      December 29, 2017       0  \n",
       "2      December 31, 2017       0  \n",
       "3      December 30, 2017       0  \n",
       "4      December 29, 2017       0  \n",
       "...                   ...    ...  \n",
       "21412    August 22, 2017       0  \n",
       "21413    August 22, 2017       0  \n",
       "21414    August 22, 2017       0  \n",
       "21415    August 22, 2017       0  \n",
       "21416    August 22, 2017       0  \n",
       "\n",
       "[21417 rows x 6 columns]"
      ]
     },
     "execution_count": 56,
     "metadata": {},
     "output_type": "execute_result"
    }
   ],
   "source": [
    "true_processed = pd.read_csv(f\"{data_path}true_preprocessed.csv\")\n",
    "fake_processed = pd.read_csv(f\"{data_path}fake_preprocessed.csv\")\n",
    "true_processed"
   ]
  },
  {
   "cell_type": "code",
   "execution_count": 57,
   "metadata": {},
   "outputs": [
    {
     "name": "stdout",
     "output_type": "stream",
     "text": [
      "washington head conservative republican faction u congress voted month huge expansion national debt pay tax cuts called fiscal conservative sunday urged budget restraint keeping sharp pivot way among republicans u representative mark meadows speaking cbs face nation drew hard line federal spending lawmakers bracing battle january return holidays wednesday lawmakers begin trying pass federal budget fight likely linked issues immigration policy even november congressional election campaigns approach republicans seek keep control congress president donald trump republicans want big budget increase military spending democrats also want proportional increases non defense discretionary spending programs support education scientific research infrastructure public health environmental protection trump administration already willing say going increase non defense discretionary spending percent meadows chairman small influential house freedom caucus said program democrats saying enough need give government pay raise percent fiscal conservative don see rationale eventually run people money said meadows among republicans voted late december party debt financed tax overhaul expected balloon federal budget deficit add trillion years trillion national debt interesting hear mark talk fiscal responsibility democratic u representative joseph crowley said cbs crowley said republican tax bill would require united states borrow trillion paid future generations finance tax cuts corporations rich one least fiscally responsible bills ever seen passed history house representatives think going paying many many years come crowley said republicans insist tax package biggest u tax overhaul years boost economy job growth house speaker paul ryan also supported tax bill recently went meadows making clear radio interview welfare entitlement reform party often calls would top republican priority republican parlance entitlement programs mean food stamps housing assistance medicare medicaid health insurance elderly poor disabled well programs created washington assist needy democrats seized ryan early december remarks saying showed republicans would try pay tax overhaul seeking spending cuts social programs goals house republicans may take back seat senate votes democrats needed approve budget prevent government shutdown democrats use leverage senate republicans narrowly control defend discretionary non defense programs social spending tackling issue dreamers people brought illegally country children trump september put march expiration date deferred action childhood arrivals daca program protects young immigrants deportation provides work permits president said recent twitter messages wants funding proposed mexican border wall immigration law changes exchange agreeing help dreamers representative debbie dingell told cbs favor linking issue policy objectives wall funding need daca clean said wednesday trump aides meet congressional leaders discuss issues followed weekend strategy sessions trump republican leaders jan white house said trump also scheduled meet sunday florida republican governor rick scott wants emergency aid house passed billion aid package hurricanes florida texas puerto rico wildfires california package far exceeded billion requested trump administration senate yet voted aid\n",
      "[0.0006029544769369913, 0.01175761230027133, 0.006933976484775399, 0.004522158577027435, 0.004220681338558939, 0.003316249623153452, 0.014772384684956286, 0.0021103406692794696, 0.0036177268616219473, 0.0030147723846849564]\n",
      "{'disgust': 0.0006029544769369913, 'trust': 0.01175761230027133, 'negative': 0.006933976484775399, 'sadness': 0.004522158577027435, 'anticipation': 0.004220681338558939, 'joy': 0.003316249623153452, 'positive': 0.014772384684956286, 'anger': 0.0021103406692794696, 'fear': 0.0036177268616219473, 'surprise': 0.0030147723846849564}\n",
      "['disgust', 'trust', 'negative', 'sadness', 'anticipation', 'joy', 'positive', 'anger', 'fear', 'surprise']\n"
     ]
    }
   ],
   "source": [
    "test_article = true_processed['text'][0]\n",
    "print(test_article)\n",
    "norm_len = len(test_article)\n",
    "xx = NRCLex(test_article)\n",
    "norm_xx = {}\n",
    "norm_xx_vect = []\n",
    "for i in xx.raw_emotion_scores.keys():\n",
    "    norm_xx[i]= xx.raw_emotion_scores[i]/norm_len\n",
    "    norm_xx_vect.append(norm_xx[i])\n",
    "dict_labels = list(xx.raw_emotion_scores.keys())\n",
    "print(norm_xx_vect)\n",
    "print(norm_xx)\n",
    "print(dict_labels)"
   ]
  },
  {
   "cell_type": "code",
   "execution_count": 61,
   "metadata": {},
   "outputs": [],
   "source": [
    "def emotion_score_article(article):\n",
    "    if not isinstance(article, str):\n",
    "        print(article)\n",
    "    norm_len = len(article)\n",
    "    xx = NRCLex(article)\n",
    "    norm_xx = {}\n",
    "    norm_xx_vect = []\n",
    "    for i in xx.raw_emotion_scores.keys():\n",
    "        norm_xx[i]= xx.raw_emotion_scores[i]/norm_len\n",
    "        norm_xx_vect.append(norm_xx[i])\n",
    "    return norm_xx_vect"
   ]
  },
  {
   "cell_type": "code",
   "execution_count": 62,
   "metadata": {},
   "outputs": [
    {
     "name": "stdout",
     "output_type": "stream",
     "text": [
      "nan\n"
     ]
    },
    {
     "ename": "TypeError",
     "evalue": "object of type 'float' has no len()",
     "output_type": "error",
     "traceback": [
      "\u001b[0;31m---------------------------------------------------------------------------\u001b[0m",
      "\u001b[0;31mTypeError\u001b[0m                                 Traceback (most recent call last)",
      "Cell \u001b[0;32mIn[62], line 1\u001b[0m\n\u001b[0;32m----> 1\u001b[0m fake_emotions \u001b[38;5;241m=\u001b[39m [\u001b[43memotion_score_article\u001b[49m\u001b[43m(\u001b[49m\u001b[43mi\u001b[49m\u001b[43m)\u001b[49m \u001b[38;5;28;01mfor\u001b[39;00m i \u001b[38;5;129;01min\u001b[39;00m fake_processed[\u001b[38;5;124m'\u001b[39m\u001b[38;5;124mtext\u001b[39m\u001b[38;5;124m'\u001b[39m]]\n\u001b[1;32m      2\u001b[0m fake_processed[\u001b[38;5;124m'\u001b[39m\u001b[38;5;124memotions\u001b[39m\u001b[38;5;124m'\u001b[39m]\u001b[38;5;241m=\u001b[39mfake_emotions\n\u001b[1;32m      3\u001b[0m true_emotions \u001b[38;5;241m=\u001b[39m [emotion_score_article(i) \u001b[38;5;28;01mfor\u001b[39;00m i \u001b[38;5;129;01min\u001b[39;00m true_processed[\u001b[38;5;124m'\u001b[39m\u001b[38;5;124mtext\u001b[39m\u001b[38;5;124m'\u001b[39m]]\n",
      "Cell \u001b[0;32mIn[61], line 4\u001b[0m, in \u001b[0;36memotion_score_article\u001b[0;34m(article)\u001b[0m\n\u001b[1;32m      2\u001b[0m \u001b[38;5;28;01mif\u001b[39;00m \u001b[38;5;129;01mnot\u001b[39;00m \u001b[38;5;28misinstance\u001b[39m(article, \u001b[38;5;28mstr\u001b[39m):\n\u001b[1;32m      3\u001b[0m     \u001b[38;5;28mprint\u001b[39m(article)\n\u001b[0;32m----> 4\u001b[0m norm_len \u001b[38;5;241m=\u001b[39m \u001b[38;5;28;43mlen\u001b[39;49m\u001b[43m(\u001b[49m\u001b[43marticle\u001b[49m\u001b[43m)\u001b[49m\n\u001b[1;32m      5\u001b[0m xx \u001b[38;5;241m=\u001b[39m NRCLex(article)\n\u001b[1;32m      6\u001b[0m norm_xx \u001b[38;5;241m=\u001b[39m {}\n",
      "\u001b[0;31mTypeError\u001b[0m: object of type 'float' has no len()"
     ]
    }
   ],
   "source": [
    "fake_emotions = [emotion_score_article(i) for i in fake_processed['text']]\n",
    "fake_processed['emotions']=fake_emotions\n",
    "true_emotions = [emotion_score_article(i) for i in true_processed['text']]\n",
    "true_processed['emotions']=true_emotions"
   ]
  },
  {
   "cell_type": "code",
   "execution_count": null,
   "metadata": {},
   "outputs": [],
   "source": [
    "fake_processed.to "
   ]
  },
  {
   "cell_type": "code",
   "execution_count": 43,
   "metadata": {},
   "outputs": [],
   "source": [
    "with open(f'{data_path}emotions_labels.json', 'w') as f:\n",
    "    json.dump(dict_labels, f)"
   ]
  },
  {
   "cell_type": "code",
   "execution_count": 37,
   "metadata": {},
   "outputs": [
    {
     "name": "stdout",
     "output_type": "stream",
     "text": [
      "disgust\n",
      "trust\n",
      "negative\n",
      "sadness\n",
      "anticipation\n",
      "joy\n",
      "positive\n",
      "anger\n",
      "fear\n",
      "surprise\n",
      "{'disgust': 0.06029544769369913, 'trust': 1.175761230027133, 'negative': 0.6933976484775399, 'sadness': 0.4522158577027434, 'anticipation': 0.42206813385589387, 'joy': 0.3316249623153452, 'positive': 1.4772384684956286, 'anger': 0.21103406692794693, 'fear': 0.36177268616219477, 'surprise': 0.3014772384684956}\n"
     ]
    }
   ],
   "source": []
  },
  {
   "cell_type": "code",
   "execution_count": 24,
   "metadata": {},
   "outputs": [
    {
     "data": {
      "text/plain": [
       "dict"
      ]
     },
     "execution_count": 24,
     "metadata": {},
     "output_type": "execute_result"
    }
   ],
   "source": [
    "type(xx)"
   ]
  },
  {
   "cell_type": "markdown",
   "metadata": {},
   "source": [
    "# Low-level article features: article and word length"
   ]
  },
  {
   "cell_type": "code",
   "execution_count": 4,
   "metadata": {},
   "outputs": [],
   "source": [
    "lens = []\n",
    "for i in true_data['text']:\n",
    "    lens.append(len(i))\n",
    "\n",
    "\n",
    "lens_fake = []\n",
    "for i in fake_data['text']:\n",
    "    lens_fake.append(len(i))"
   ]
  },
  {
   "cell_type": "code",
   "execution_count": 5,
   "metadata": {},
   "outputs": [
    {
     "name": "stdout",
     "output_type": "stream",
     "text": [
      "mean length of true_data is \n"
     ]
    }
   ],
   "source": [
    "print(f'mean length of true_data is ')"
   ]
  },
  {
   "cell_type": "code",
   "execution_count": 6,
   "metadata": {},
   "outputs": [
    {
     "name": "stderr",
     "output_type": "stream",
     "text": [
      "/var/folders/fg/8ckmhq153z793vnzd_h_50s40000gn/T/ipykernel_97327/1808150185.py:2: FutureWarning: \n",
      "\n",
      "`shade` is now deprecated in favor of `fill`; setting `fill=True`.\n",
      "This will become an error in seaborn v0.14.0; please update your code.\n",
      "\n",
      "  sns.kdeplot(lens, color='blue', shade=True, label='True')\n",
      "/var/folders/fg/8ckmhq153z793vnzd_h_50s40000gn/T/ipykernel_97327/1808150185.py:3: FutureWarning: \n",
      "\n",
      "`shade` is now deprecated in favor of `fill`; setting `fill=True`.\n",
      "This will become an error in seaborn v0.14.0; please update your code.\n",
      "\n",
      "  sns.kdeplot(lens_fake, color='red', shade=True, label='Fake')\n"
     ]
    },
    {
     "data": {
      "text/plain": [
       "<matplotlib.legend.Legend at 0x14b4d53d0>"
      ]
     },
     "execution_count": 6,
     "metadata": {},
     "output_type": "execute_result"
    },
    {
     "data": {
      "image/png": "[encoded data removed]",
      "text/plain": [
       "<Figure size 1000x600 with 1 Axes>"
      ]
     },
     "metadata": {},
     "output_type": "display_data"
    }
   ],
   "source": [
    "plt.figure(figsize=(10, 6))\n",
    "sns.kdeplot(lens, color='blue', shade=True, label='True')\n",
    "sns.kdeplot(lens_fake, color='red', shade=True, label='Fake')\n",
    "\n",
    "# Adding labels and title\n",
    "plt.xlabel('Length (Characters)')\n",
    "plt.ylabel('Density')\n",
    "plt.title('Overlay of Article Length Distribiutions')\n",
    "plt.legend()"
   ]
  },
  {
   "cell_type": "code",
   "execution_count": 7,
   "metadata": {},
   "outputs": [
    {
     "name": "stderr",
     "output_type": "stream",
     "text": [
      "/Users/AdamHarris/miniconda3/envs/nlp_neuromatch/lib/python3.12/site-packages/numpy/_core/fromnumeric.py:3596: RuntimeWarning: Mean of empty slice.\n",
      "  return _methods._mean(a, axis=axis, dtype=dtype,\n",
      "/Users/AdamHarris/miniconda3/envs/nlp_neuromatch/lib/python3.12/site-packages/numpy/_core/_methods.py:138: RuntimeWarning: invalid value encountered in scalar divide\n",
      "  ret = ret.dtype.type(ret / rcount)\n",
      "/var/folders/fg/8ckmhq153z793vnzd_h_50s40000gn/T/ipykernel_97327/471991120.py:12: FutureWarning: \n",
      "\n",
      "`shade` is now deprecated in favor of `fill`; setting `fill=True`.\n",
      "This will become an error in seaborn v0.14.0; please update your code.\n",
      "\n",
      "  sns.kdeplot(wlens, color='blue', shade=True, label='True')\n",
      "/var/folders/fg/8ckmhq153z793vnzd_h_50s40000gn/T/ipykernel_97327/471991120.py:13: FutureWarning: \n",
      "\n",
      "`shade` is now deprecated in favor of `fill`; setting `fill=True`.\n",
      "This will become an error in seaborn v0.14.0; please update your code.\n",
      "\n",
      "  sns.kdeplot(wlens_fake, color='red', shade=True, label='Fake')\n"
     ]
    },
    {
     "data": {
      "text/plain": [
       "<matplotlib.legend.Legend at 0x14b7b7e90>"
      ]
     },
     "execution_count": 7,
     "metadata": {},
     "output_type": "execute_result"
    },
    {
     "data": {
      "image/png": "[encoded data removed]",
      "text/plain": [
       "<Figure size 1000x600 with 1 Axes>"
      ]
     },
     "metadata": {},
     "output_type": "display_data"
    }
   ],
   "source": [
    "wlens = []\n",
    "for i in true_data['text']:\n",
    "    wlens.append(np.mean(np.array(nlp_preprocessing.get_word_lengths(i))))\n",
    "\n",
    "\n",
    "wlens_fake = []\n",
    "for i in fake_data['text']:\n",
    "    wlens_fake.append(np.mean(np.array(nlp_preprocessing.get_word_lengths(i))))\n",
    "\n",
    "\n",
    "plt.figure(figsize=(10, 6))\n",
    "sns.kdeplot(wlens, color='blue', shade=True, label='True')\n",
    "sns.kdeplot(wlens_fake, color='red', shade=True, label='Fake')\n",
    "\n",
    "# Adding labels and title\n",
    "plt.xlabel('Mean Word Length (Characters)')\n",
    "plt.ylabel('Density')\n",
    "plt.title('Overlay of Article Word Length Distribiutions')\n",
    "plt.xlim(1, 20)\n",
    "plt.legend()"
   ]
  },
  {
   "cell_type": "code",
   "execution_count": 29,
   "metadata": {},
   "outputs": [],
   "source": [
    "vectorizer = CountVectorizer()\n",
    "\n",
    "# Fit and transform the text data\n",
    "X = vectorizer.fit_transform(data_all['title'])"
   ]
  },
  {
   "cell_type": "code",
   "execution_count": 31,
   "metadata": {},
   "outputs": [],
   "source": [
    "feature_names = vectorizer.get_feature_names_out()\n",
    "\n",
    "# Convert sparse matrix to DataFrame\n",
    "word_count_df = pd.DataFrame(X.toarray(), columns=feature_names)"
   ]
  },
  {
   "cell_type": "code",
   "execution_count": 32,
   "metadata": {},
   "outputs": [
    {
     "name": "stdout",
     "output_type": "stream",
     "text": [
      "   00  000  000m  000s  0045  0111  0112  0130  0149  02  ...  zor  zschaepe  \\\n",
      "0   0    0     0     0     0     0     0     0     0   0  ...    0         0   \n",
      "1   0    0     0     0     0     0     0     0     0   0  ...    0         0   \n",
      "2   0    0     0     0     0     0     0     0     0   0  ...    0         0   \n",
      "3   0    0     0     0     0     0     0     0     0   0  ...    0         0   \n",
      "4   0    0     0     0     0     0     0     0     0   0  ...    0         0   \n",
      "\n",
      "   zucker  zuckerberg  zulia  zuma  zummar  zurich  état  žižek  \n",
      "0       0           0      0     0       0       0     0      0  \n",
      "1       0           0      0     0       0       0     0      0  \n",
      "2       0           0      0     0       0       0     0      0  \n",
      "3       0           0      0     0       0       0     0      0  \n",
      "4       0           0      0     0       0       0     0      0  \n",
      "\n",
      "[5 rows x 20896 columns]\n"
     ]
    }
   ],
   "source": [
    "print(word_count_df.head())"
   ]
  },
  {
   "cell_type": "code",
   "execution_count": 33,
   "metadata": {},
   "outputs": [
    {
     "data": {
      "text/plain": [
       "array(['really', 'realnews', 'realtors', 'reap', 'reappeared',\n",
       "       'reappoints', 'reason', 'reasonable', 'reasonably', 'reasoning',\n",
       "       'reasons', 'reassess', 'reassigned', 'reassignment', 'reassurance',\n",
       "       'reassure', 'reassures', 'reauthorizes', 'reauthorizing',\n",
       "       'reawaken', 'rebates', 'rebel', 'rebellion', 'rebellious',\n",
       "       'rebels', 'reboot', 'reborn', 'rebound', 'rebuff', 'rebuffed',\n",
       "       'rebuffs', 'rebuild', 'rebuilding', 'rebuke', 'rebuked', 'rebukes',\n",
       "       'rebuts', 'rebuttal', 'rec', 'recall', 'recalled', 'recalling',\n",
       "       'recalls', 'recanvass', 'recapture', 'recaptured', 'recaptures',\n",
       "       'recast', 'receipt', 'receipts', 'receive', 'received', 'receives',\n",
       "       'receiving', 'recent', 'recently', 'reception', 'receptive',\n",
       "       'recess', 'recession', 'recipe', 'recipient', 'recipients',\n",
       "       'reciprocal', 'reciprocate', 'recite', 'recites', 'reckless',\n",
       "       'recklessness', 'reckoning', 'reclaim', 'reclaiming', 'recode',\n",
       "       'recognition', 'recognize', 'recognizes', 'recognizing',\n",
       "       'recollection', 'recommend', 'recommendation', 'recommended',\n",
       "       'recommends', 'recommits', 'reconcile', 'reconciliation',\n",
       "       'reconnaissance', 'reconquista', 'reconsider', 'reconsidered',\n",
       "       'reconstruction', 'reconvene', 'reconvenes', 'record', 'recorded',\n",
       "       'recording', 'recordings', 'records', 'recount', 'recounts',\n",
       "       'recover', 'recoverable', 'recovered', 'recovering', 'recovers',\n",
       "       'recovery', 'recreates', 'recreating', 'recreational', 'recruit',\n",
       "       'recruited', 'recruiter', 'recruiters', 'recruiting',\n",
       "       'recruitment', 'recruits', 'recusal', 'recuse', 'recused',\n",
       "       'recuses', 'recycled', 'red', 'redact', 'redacted', 'reddit',\n",
       "       'rededicate', 'redeems', 'redhawks', 'redirect', 'rediscover',\n",
       "       'redistribute', 'redistribution', 'redistricting', 'redneck',\n",
       "       'redo', 'redone', 'redouble', 'redraft', 'redraw', 'redrawn',\n",
       "       'redskin', 'redskins', 'reduce', 'reduced', 'reduces', 'reducing',\n",
       "       'reduction', 'reductions', 'redux', 'ree', 'reebok', 'reed',\n",
       "       'reef', 'reeking', 'reel', 'reelection', 'reeling', 'reels',\n",
       "       'reenactment', 'refer', 'reference', 'references', 'referendum',\n",
       "       'referred', 'referring', 'refers', 'refile', 'refinancing',\n",
       "       'refined', 'refinements', 'refiners', 'refinery', 'refining',\n",
       "       'refitting', 'reflect', 'reflected', 'reflections', 'reflects',\n",
       "       'refloated', 'refocus', 'refocuses', 'reform', 'reformation',\n",
       "       'reformed', 'reforming', 'reformist', 'reformists', 'reforms',\n",
       "       'refrain', 'refrains', 'refreshing', 'refreshingly', 'refs',\n",
       "       'refueling', 'refuels', 'refuge', 'refugee', 'refugees',\n",
       "       'refugeeswelcome', 'refund', 'refundable', 'refunding', 'refunds',\n",
       "       'refusal', 'refusals', 'refuse', 'refused', 'refuses', 'refusing',\n",
       "       'refute', 'refuted', 'refutes', 'regain', 'regaining', 'regains',\n",
       "       'regarding', 'regardless', 'regime', 'regiment', 'regimes',\n",
       "       'region', 'regional', 'regions', 'register', 'registered',\n",
       "       'registering', 'registers', 'registration', 'registrations',\n",
       "       'registry', 'regret', 'regrets', 'regrettable', 'regretted',\n",
       "       'regroup', 'regrouping', 'regroups', 'regular', 'regulars',\n",
       "       'regulate', 'regulated', 'regulation', 'regulations', 'regulator',\n",
       "       'regulators', 'regulatory', 'rehab', 'rehabilitate', 'rehang',\n",
       "       'rehash', 'rehear', 'rehearing', 'rehearsal', 'rehearses',\n",
       "       'rehired', 'reich', 'reid', 'reign', 'reignite', 'reignites',\n",
       "       'reigniting', 'reigns', 'reilly', 'reimbursements', 'reimburses',\n",
       "       'rein', 'reince', 'reiner', 'reinforce', 'reinforced', 'reins',\n",
       "       'reinstate', 'reinstated', 'reinstates', 'reinstating',\n",
       "       'reinsurance', 'reinsurers', 'reintroduce', 'reiterates', 'reject',\n",
       "       'rejected', 'rejecting', 'rejection', 'rejects', 'rejigs',\n",
       "       'rejoice', 'rejoices', 'rejoin', 'rejuvenate', 'rejuvenated',\n",
       "       'rekindles', 'relate', 'related', 'relation', 'relations',\n",
       "       'relationship', 'relationships', 'relative', 'relatives',\n",
       "       'relativism', 'relaunch', 'relax', 'relaxed', 'relaxing', 'relays',\n",
       "       'releasable', 'release', 'released', 'releases', 'releasing',\n",
       "       'relection', 'relentlessly', 'relevance', 'relevant', 'reliable',\n",
       "       'reliance', 'reliant', 'relied', 'relief', 'relies', 'relieve',\n",
       "       'relieved', 'relieves', 'religion', 'religions', 'religious',\n",
       "       'religiously', 'relinquish', 'relishing', 'relisting', 'relives',\n",
       "       'reliving', 'relocated', 'relocates', 'reluctant', 'reluctantly',\n",
       "       'rely', 'relying', 'remain', 'remainder', 'remained', 'remaining',\n",
       "       'remains', 'remake', 'remaking', 'remand', 'remanded', 'remands',\n",
       "       'remark', 'remarkable', 'remarks', 'rematch', 'remedies',\n",
       "       'remember', 'remembered', 'remembering', 'remembrance', 'remind',\n",
       "       'reminded', 'reminder', 'reminding', 'reminds', 'reminiscent',\n",
       "       'remittance', 'remittances', 'remix', 'remorse', 'remote',\n",
       "       'remotely', 'removal', 'remove', 'removed', 'removes', 'removing',\n",
       "       'rename', 'renamed', 'renames', 'renaming', 'render', 'renee',\n",
       "       'renegade', 'renegotiable', 'renegotiate', 'renegotiated',\n",
       "       'renegotiation', 'renegotiations', 'renew', 'renewable',\n",
       "       'renewables', 'renewal', 'renewed', 'renewing', 'renews', 'reno',\n",
       "       'renoir', 'renominated', 'renounce', 'renouncing', 'rent',\n",
       "       'rental', 'rentals', 'rented', 'renters', 'renting', 'renzi',\n",
       "       'reopen', 'reopened', 'reopening', 'reopens', 'reorganization',\n",
       "       'reorganize', 'reorganizing', 'rep', 'repaid', 'repair',\n",
       "       'repaired', 'repairs', 'reparations', 'repatriate', 'repatriated',\n",
       "       'repatriating', 'repatriation', 'repay', 'repayment', 'repeal',\n",
       "       'repealed', 'repealing', 'repeals', 'repeat', 'repeated',\n",
       "       'repeatedly', 'repeating', 'repeats', 'repel', 'repels',\n",
       "       'repercussions', 'repetitive', 'replace', 'replaced',\n",
       "       'replacement', 'replacements', 'replaces', 'replacing', 'replay',\n",
       "       'replied', 'reply', 'reponds', 'report', 'reported', 'reportedly',\n",
       "       'reporter', 'reporters', 'reporting', 'reports', 'reprehensible',\n",
       "       'represent', 'representation', 'representations', 'representative',\n",
       "       'representatives', 'represented', 'representing', 'represents',\n",
       "       'repression', 'repressive', 'reprieve', 'reprieves', 'reprimanded',\n",
       "       'reprimands', 'reprisals', 'reprise', 'reprises', 'reproduce',\n",
       "       'reproduction', 'reproductive', 'reps', 'republic', 'republican',\n",
       "       'republicans', 'republicansforhillary', 'republishes', 'repudiate',\n",
       "       'repugnant', 'repulsive', 'reputation', 'reputations', 'request',\n",
       "       'requested', 'requesting', 'requests', 'require', 'required',\n",
       "       'requirement', 'requirements', 'requires', 'requiring', 'requited',\n",
       "       'res', 'reschedule', 'rescheduled', 'rescind', 'rescinding',\n",
       "       'rescinds', 'rescue', 'rescued', 'rescuers', 'rescues', 'rescuing',\n",
       "       'research', 'researcher', 'researchers', 'resemble', 'resembles',\n",
       "       'resentment', 'reservation', 'reservations', 'reserve', 'reserved',\n",
       "       'reserves', 'reservoirs', 'reset', 'resettle', 'resettled',\n",
       "       'resettlement', 'reshape', 'reshuffle', 'reshuffles', 'residence',\n",
       "       'residency', 'resident', 'residential', 'residents', 'resign',\n",
       "       'resignation', 'resignations', 'resigned', 'resigning', 'resigns',\n",
       "       'resist', 'resistance', 'resistant', 'resisting', 'resists',\n",
       "       'resisttrump', 'resolute', 'resolutely', 'resolution',\n",
       "       'resolutions', 'resolve', 'resolved', 'resolving', 'resonate',\n",
       "       'resonates', 'resonating', 'resonds', 'resort', 'resorts',\n",
       "       'resounding', 'resource', 'resources', 'respect', 'respectability',\n",
       "       'respectable', 'respected', 'respecting', 'respects', 'respond',\n",
       "       'responded', 'responders', 'responding', 'responds', 'response',\n",
       "       'responses', 'responsibilities', 'responsibility', 'responsible',\n",
       "       'responsibly', 'rest', 'restart', 'restarted', 'restarting',\n",
       "       'restaurant', 'restaurants', 'restaurateurs', 'restive',\n",
       "       'restoration', 'restore', 'restored', 'restores', 'restoring',\n",
       "       'restrain', 'restraining', 'restraint', 'restrict', 'restricted',\n",
       "       'restricting', 'restriction', 'restrictions', 'restrictive',\n",
       "       'restricts', 'restroom', 'restrooms', 'restructure',\n",
       "       'restructuring', 'rests', 'result', 'resulted', 'results',\n",
       "       'resume', 'resumed', 'resumes', 'resuming', 'resumption',\n",
       "       'resurface', 'resurfaces', 'resurfacing', 'resurge', 'resurgence',\n",
       "       'resurrected', 'resurrecting', 'resurrection', 'resuscitation',\n",
       "       'ret', 'retail', 'retailer', 'retailers', 'retain', 'retains',\n",
       "       'retake', 'retaken', 'retaking', 'retaliate', 'retaliated',\n",
       "       'retaliates', 'retaliating', 'retaliation', 'retaliatory',\n",
       "       'retarded', 'retards', 'rethink', 'rethinks', 'retire', 'retired',\n",
       "       'retiree', 'retirees', 'retirement', 'retires', 'retiring',\n",
       "       'retitles', 'retooled', 'retools', 'retort', 'retracted',\n",
       "       'retraction', 'retracts', 'retrain', 'retraining', 'retreat',\n",
       "       'retreats', 'retrenchment', 'retrial', 'retribution', 'retrieves',\n",
       "       'retro', 'retroactive', 'retry', 'return', 'returned', 'returnees',\n",
       "       'returning', 'returns', 'retweet', 'retweeted', 'retweeting',\n",
       "       'retweets', 'reunification', 'reunion', 'reunited', 'reunites',\n",
       "       'reuniting', 'reuters', 'rev', 'revamp', 'revamped', 'revamping',\n",
       "       'reveal', 'revealed', 'revealing', 'reveals', 'revelation',\n",
       "       'revelations', 'revels', 'revenge', 'revenue', 'revenues',\n",
       "       'revered', 'reverend', 'reversal', 'reverse', 'reverses',\n",
       "       'reversing', 'review', 'reviewed', 'reviewing', 'reviews',\n",
       "       'revise', 'revised', 'revises', 'revising', 'revision', 'revisit',\n",
       "       'revisits', 'revival', 'revive', 'revived', 'revives', 'reviving',\n",
       "       'revoke', 'revoked', 'revokes', 'revoking', 'revolt', 'revolting',\n",
       "       'revolution', 'revolutionaries', 'revolutionary', 'revolutions',\n",
       "       'revulsed', 'revved', 'reward', 'rewarded', 'rewards', 'rework',\n",
       "       'rewrite', 'rewrites', 'rewrote', 'rex', 'reynolds', 'reza', 'rfk',\n",
       "       'rheinmetall', 'rhetoric', 'rhimes', 'rhode', 'rhodes', 'ria',\n",
       "       'ribbon', 'ribbons', 'ribs', 'rica', 'rican', 'ricans', 'rice',\n",
       "       'rich', 'richard', 'richer', 'richest', 'rick', 'rickety', 'ricky',\n",
       "       'rico', 'rid', 'riddance', 'ridden', 'riddled', 'ride', 'rider',\n",
       "       'riders', 'rides', 'ridge', 'ridicule', 'ridiculed', 'ridicules',\n",
       "       'ridiculing', 'ridiculous', 'ridiculously', 'riding', 'rife',\n",
       "       'rifle', 'rifles', 'rift', 'rifts', 'rig', 'rigged', 'rigging',\n",
       "       'right', 'righteous', 'righteously', 'righter', 'rightfully',\n",
       "       'righties', 'rightist', 'rights', 'rightward', 'rigorous', 'rigs',\n",
       "       'rihanna', 'riina', 'riles', 'rim', 'rimsevics', 'ring', 'ringing',\n",
       "       'ringleader', 'ringo', 'rings', 'rink', 'rino', 'rinos', 'rio',\n",
       "       'rios', 'riot', 'rioter', 'rioters', 'rioting', 'riots', 'rip',\n",
       "       'ripe', 'ripped', 'ripping', 'rips', 'rise', 'riser', 'rises',\n",
       "       'rising', 'risk', 'risked', 'risking', 'risks', 'risky', 'rite',\n",
       "       'rites', 'ritual', 'ritzheimer', 'rival', 'rivalries', 'rivals',\n",
       "       'river', 'rivera', 'riverbank', 'rivers', 'riveting', 'riyadh',\n",
       "       'riyal', 'rn', 'rnc', 'rnd', 'road', 'roadblock', 'roadblocking',\n",
       "       'roadblocks', 'roadkill', 'roadmap', 'roads', 'roadside', 'roam',\n",
       "       'roamed', 'roar', 'roaring', 'roars', 'roast', 'roasted',\n",
       "       'roasting', 'roasts', 'rob', 'robbed', 'robber', 'robbers',\n",
       "       'robbery', 'robbing', 'robe', 'robert', 'roberts', 'robertson',\n",
       "       'robin', 'robinson', 'robo', 'robocall', 'robot', 'robotic',\n",
       "       'roboto', 'robots', 'robreiner', 'robs', 'rock', 'rocked',\n",
       "       'rockefeller', 'rockefellers', 'rocker', 'rockers', 'rocket',\n",
       "       'rockets', 'rockettes', 'rockier', 'rocks', 'rockville', 'rocky',\n",
       "       'rod', 'rodham', 'rodman', 'roe', 'rofl', 'rogan', 'rogen',\n",
       "       'roger', 'rogers', 'rogue', 'rohingya', 'rohingyas', 'roil',\n",
       "       'roiled', 'roils', 'role', 'roleplay', 'roles', 'roll', 'rollback',\n",
       "       'rollbacks', 'rolled', 'rollers', 'rolling', 'rollins', 'rollout',\n",
       "       'rolls', 'roma', 'roman', 'romania', 'romanian', 'romanians',\n",
       "       'romantically', 'rome', 'romney', 'ron', 'ronald', 'ronna', 'rood',\n",
       "       'roof', 'roofing', 'rooftop', 'rooftopper', 'rooftops', 'rookie',\n",
       "       'room', 'roommate', 'rooms', 'roosevelt', 'roost', 'rooster',\n",
       "       'root', 'rooting', 'roots', 'rope', 'ros', 'rosa', 'rosario',\n",
       "       'rose', 'roseanne', 'roseberg', 'rosen', 'rosenstein',\n",
       "       'rosenworcel', 'roses', 'rosie', 'rosneft', 'ross', 'rossum',\n",
       "       'rosters', 'roswell', 'rosy', 'rot', 'rotation', 'rotc', 'rotfl',\n",
       "       'rothschild', 'rothschilds', 'rotten', 'rotterdam', 'rotting',\n",
       "       'rouge', 'rough', 'rouhani', 'roulette', 'round', 'roundabout',\n",
       "       'rounded', 'roundly', 'rounds', 'roundtable', 'roundup', 'rourke',\n",
       "       'rousing', 'rousseff', 'route', 'routed', 'routes', 'routine',\n",
       "       'routinely', 'rove', 'row', 'rowdy', 'rowe'], dtype=object)"
      ]
     },
     "execution_count": 33,
     "metadata": {},
     "output_type": "execute_result"
    }
   ],
   "source": [
    "feature_names[15000:16000]"
   ]
  },
  {
   "cell_type": "code",
   "execution_count": null,
   "metadata": {},
   "outputs": [],
   "source": []
  }
 ],
 "metadata": {
  "kernelspec": {
   "display_name": "nlp_neuromatch",
   "language": "python",
   "name": "python3"
  },
  "language_info": {
   "codemirror_mode": {
    "name": "ipython",
    "version": 3
   },
   "file_extension": ".py",
   "mimetype": "text/x-python",
   "name": "python",
   "nbconvert_exporter": "python",
   "pygments_lexer": "ipython3",
   "version": "3.12.4"
  }
 },
 "nbformat": 4,
 "nbformat_minor": 2
}

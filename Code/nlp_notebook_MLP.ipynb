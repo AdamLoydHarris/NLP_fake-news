{
 "cells": [
  {
   "cell_type": "markdown",
   "source": [
    "Import everything you need"
   ],
   "metadata": {
    "collapsed": false
   },
   "id": "c7fc61237f4af1a4"
  },
  {
   "cell_type": "code",
   "outputs": [
    {
     "name": "stdout",
     "output_type": "stream",
     "text": [
      "Random seed 2021 has been set.\n",
      "GPU is not enabled in this notebook. \n",
      "If you want to enable it, in the menu under `Runtime` -> \n",
      "`Hardware accelerator.` and select `GPU` from the dropdown menu\n"
     ]
    }
   ],
   "source": [
    "!pip install torchvision --quiet\n",
    "\n",
    "import random\n",
    "import numpy as np\n",
    "import pandas as pd\n",
    "import matplotlib.pyplot as plt\n",
    "\n",
    "# PyTorch libraries\n",
    "import torch\n",
    "import nlp_nets as nlp\n",
    "from torch import nn\n",
    "import torch.optim as optim\n",
    "from os.path import join as opj\n",
    "from torch.utils.data import DataLoader, TensorDataset, random_split\n",
    "from tqdm.auto import tqdm"
   ],
   "metadata": {
    "collapsed": true,
    "ExecuteTime": {
     "end_time": "2024-07-16T07:54:00.980539Z",
     "start_time": "2024-07-16T07:53:39.009715Z"
    }
   },
   "id": "initial_id",
   "execution_count": 1
  },
  {
   "cell_type": "markdown",
   "source": [
    "Set up seeds"
   ],
   "metadata": {
    "collapsed": false
   },
   "id": "87420d7e59688f52"
  },
  {
   "cell_type": "code",
   "outputs": [
    {
     "name": "stdout",
     "output_type": "stream",
     "text": [
      "Random seed 5 has been set.\n",
      "GPU is not enabled in this notebook. \n",
      "If you want to enable it, in the menu under `Runtime` -> \n",
      "`Hardware accelerator.` and select `GPU` from the dropdown menu\n"
     ]
    }
   ],
   "source": [
    "SEED = 5\n",
    "SEED = nlp.set_seed(SEED)\n",
    "DEVICE = nlp.set_device()\n",
    "\n",
    "g_seed = torch.Generator()\n",
    "#g_seed.manual_seed(SEED)"
   ],
   "metadata": {
    "collapsed": false,
    "ExecuteTime": {
     "end_time": "2024-07-16T07:54:01.050927Z",
     "start_time": "2024-07-16T07:54:00.978365Z"
    }
   },
   "id": "f1a4bd33f4d1be1c",
   "execution_count": 2
  },
  {
   "cell_type": "markdown",
   "source": [
    "Load and process data"
   ],
   "metadata": {
    "collapsed": false
   },
   "id": "260d5187cdd60d05"
  },
  {
   "cell_type": "code",
   "outputs": [
    {
     "name": "stdout",
     "output_type": "stream",
     "text": [
      "10\n",
      "200\n"
     ]
    }
   ],
   "source": [
    "# specify PATH\n",
    "folder_dir = opj('/', 'Users', 'doctordu', 'Documents', 'Github', 'Neuromatch_NLP', 'dataset')\n",
    "\n",
    "# load emotion scores\n",
    "emo_arr_fake = np.load(opj(folder_dir, 'fake_emotion_array.npy'))\n",
    "emo_arr_true = np.load(opj(folder_dir, 'true_emotion_array.npy'))\n",
    "arr_labels = np.load(opj(folder_dir, 'labels_all.npy'))\n",
    "emo_data_array = np.concatenate((emo_arr_fake, emo_arr_true))\n",
    "nFeatures_emo = emo_data_array.shape[1]\n",
    "\n",
    "# load word embeddings\n",
    "embed_data_array = np.load(opj(folder_dir, 'doc2vec_embeddings_200.npy'))\n",
    "nFeatures_embed = embed_data_array.shape[1]\n",
    "\n",
    "emo_data_torch = torch.from_numpy(emo_data_array).to(DEVICE)\n",
    "embed_data_torch = torch.from_numpy(embed_data_array).to(DEVICE)\n",
    "labels_torch = torch.from_numpy(arr_labels).to(DEVICE)\n",
    "\n",
    "print(nFeatures_emo)\n",
    "print(nFeatures_embed)"
   ],
   "metadata": {
    "collapsed": false,
    "ExecuteTime": {
     "end_time": "2024-07-16T08:42:58.031411Z",
     "start_time": "2024-07-16T08:42:57.990411Z"
    }
   },
   "id": "2582082265616184",
   "execution_count": 23
  },
  {
   "cell_type": "markdown",
   "source": [
    "Pack data into loaders"
   ],
   "metadata": {
    "collapsed": false
   },
   "id": "12b02961aa89519"
  },
  {
   "cell_type": "code",
   "outputs": [
    {
     "name": "stdout",
     "output_type": "stream",
     "text": [
      "torch.Size([44265, 200])\n",
      "torch.Size([44265, 10])\n"
     ]
    }
   ],
   "source": [
    "batch_size = 6000\n",
    "train_size = int(0.6 * len(emo_data_torch))\n",
    "val_size = int(0.2 * len(emo_data_torch))\n",
    "test_size = len(emo_data_torch) - train_size - val_size\n",
    "\n",
    "\n",
    "# Load emo data into loaders\n",
    "emo_dataset = TensorDataset(emo_data_torch, labels_torch)\n",
    "emo_train_dataset, emo_val_dataset, emo_test_dataset = random_split(emo_dataset, [train_size, val_size, test_size])\n",
    "\n",
    "emo_test_loader = DataLoader(emo_test_dataset, batch_size=batch_size,\n",
    "                         shuffle=False, num_workers=0,\n",
    "                         worker_init_fn=nlp.seed_worker,\n",
    "                         generator=g_seed)\n",
    "\n",
    "emo_val_loader = DataLoader(emo_val_dataset, batch_size=batch_size, drop_last=True,\n",
    "                          shuffle=True, num_workers=0,\n",
    "                          worker_init_fn=nlp.seed_worker,\n",
    "                          generator=g_seed)\n",
    "\n",
    "emo_train_loader = DataLoader(emo_train_dataset, batch_size=batch_size, drop_last=True,\n",
    "                          shuffle=True, num_workers=0,\n",
    "                          worker_init_fn=nlp.seed_worker,\n",
    "                          generator=g_seed)\n",
    "\n",
    "\n",
    "# Load embedding data into loaders\n",
    "embed_dataset = TensorDataset(embed_data_torch, labels_torch)\n",
    "embed_train_dataset, embed_val_dataset, embed_test_dataset = random_split(embed_dataset, [train_size, val_size, test_size])\n",
    "\n",
    "embed_test_loader = DataLoader(embed_test_dataset, batch_size=batch_size,\n",
    "                         shuffle=False, num_workers=0,\n",
    "                         worker_init_fn=nlp.seed_worker,\n",
    "                         generator=g_seed)\n",
    "\n",
    "embed_val_loader = DataLoader(embed_val_dataset, batch_size=batch_size, drop_last=True,\n",
    "                          shuffle=True, num_workers=0,\n",
    "                          worker_init_fn=nlp.seed_worker,\n",
    "                          generator=g_seed)\n",
    "\n",
    "embed_train_loader = DataLoader(embed_train_dataset, batch_size=batch_size, drop_last=True,\n",
    "                          shuffle=True, num_workers=0,\n",
    "                          worker_init_fn=nlp.seed_worker,\n",
    "                          generator=g_seed)\n",
    "\n",
    "print(embed_dataset.tensors[0].shape)\n",
    "print(emo_dataset.tensors[0].shape)"
   ],
   "metadata": {
    "collapsed": false,
    "ExecuteTime": {
     "end_time": "2024-07-16T08:30:43.701156Z",
     "start_time": "2024-07-16T08:30:43.678328Z"
    }
   },
   "id": "a6dba8dcdec42d92",
   "execution_count": 19
  },
  {
   "cell_type": "markdown",
   "source": [
    "Run MLP on the emotion scores"
   ],
   "metadata": {
    "collapsed": false
   },
   "id": "9abcbb1d276dbd6a"
  },
  {
   "cell_type": "code",
   "outputs": [
    {
     "name": "stdout",
     "output_type": "stream",
     "text": [
      "Random seed 950217966 has been set.\n"
     ]
    },
    {
     "data": {
      "text/plain": "  0%|          | 0/1000 [00:00<?, ?it/s]",
      "application/vnd.jupyter.widget-view+json": {
       "version_major": 2,
       "version_minor": 0,
       "model_id": "d1ffa50113734e9cb6fb765599c80a9b"
      }
     },
     "metadata": {},
     "output_type": "display_data"
    },
    {
     "name": "stdout",
     "output_type": "stream",
     "text": [
      "Accuracy on the 24000 training samples: 68.80\n",
      "Accuracy on the 6000 testing samples: 69.63\n"
     ]
    },
    {
     "data": {
      "text/plain": "<Figure size 640x480 with 1 Axes>",
      "image/png": "[encoded data removed]"
     },
     "metadata": {},
     "output_type": "display_data"
    }
   ],
   "source": [
    "nlp.set_seed(SEED)\n",
    "net = nlp.Net('ReLU()', nFeatures_emo, [50], 2).to(DEVICE)\n",
    "criterion = nn.CrossEntropyLoss()\n",
    "optimizer = optim.Adam(net.parameters(), lr=1e-3)\n",
    "num_epochs = 1000\n",
    "\n",
    "_, _ = nlp.train_test_classification(net, criterion, optimizer, emo_train_loader,\n",
    "                                 emo_val_loader, num_epochs=num_epochs,\n",
    "                                 training_plot=True, device=DEVICE)"
   ],
   "metadata": {
    "collapsed": false,
    "ExecuteTime": {
     "end_time": "2024-07-16T08:41:04.724158Z",
     "start_time": "2024-07-16T08:33:26.697007Z"
    }
   },
   "id": "6a67736f7a3c4396",
   "execution_count": 21
  },
  {
   "cell_type": "markdown",
   "source": [
    "Run MLP on word embeddings"
   ],
   "metadata": {
    "collapsed": false
   },
   "id": "6089fd92045c2698"
  },
  {
   "cell_type": "code",
   "outputs": [
    {
     "name": "stdout",
     "output_type": "stream",
     "text": [
      "Random seed 219562959 has been set.\n"
     ]
    },
    {
     "data": {
      "text/plain": "  0%|          | 0/50 [00:00<?, ?it/s]",
      "application/vnd.jupyter.widget-view+json": {
       "version_major": 2,
       "version_minor": 0,
       "model_id": "31f53fa45a8b46919ecc764880d22453"
      }
     },
     "metadata": {},
     "output_type": "display_data"
    },
    {
     "name": "stdout",
     "output_type": "stream",
     "text": [
      "Accuracy on the 24000 training samples: 100.00\n",
      "Accuracy on the 6000 testing samples: 96.78\n"
     ]
    },
    {
     "data": {
      "text/plain": "<Figure size 640x480 with 1 Axes>",
      "image/png": "[encoded data removed]"
     },
     "metadata": {},
     "output_type": "display_data"
    }
   ],
   "source": [
    "nlp.set_seed(SEED)\n",
    "net = nlp.Net('ReLU()', nFeatures_embed, [1000, 1000], 2).to(DEVICE)\n",
    "criterion = nn.CrossEntropyLoss()\n",
    "optimizer = optim.Adam(net.parameters(), lr=1e-3)\n",
    "num_epochs = 50\n",
    "\n",
    "_, _ = nlp.train_test_classification(net, criterion, optimizer, embed_train_loader,\n",
    "                                 embed_val_loader, num_epochs=num_epochs,\n",
    "                                 training_plot=True, device=DEVICE)"
   ],
   "metadata": {
    "collapsed": false,
    "ExecuteTime": {
     "end_time": "2024-07-16T08:50:19.766745Z",
     "start_time": "2024-07-16T08:48:19.771719Z"
    }
   },
   "id": "a88fb72597f19efb",
   "execution_count": 26
  },
  {
   "cell_type": "code",
   "outputs": [],
   "source": [],
   "metadata": {
    "collapsed": false
   },
   "id": "a6601aae13415e56"
  }
 ],
 "metadata": {
  "kernelspec": {
   "display_name": "Python 3",
   "language": "python",
   "name": "python3"
  },
  "language_info": {
   "codemirror_mode": {
    "name": "ipython",
    "version": 2
   },
   "file_extension": ".py",
   "mimetype": "text/x-python",
   "name": "python",
   "nbconvert_exporter": "python",
   "pygments_lexer": "ipython2",
   "version": "2.7.6"
  }
 },
 "nbformat": 4,
 "nbformat_minor": 5
}

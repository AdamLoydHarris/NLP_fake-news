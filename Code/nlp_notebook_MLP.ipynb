{
 "cells": [
  {
   "cell_type": "markdown",
   "id": "c7fc61237f4af1a4",
   "metadata": {
    "collapsed": false
   },
   "source": [
    "Import everything you need"
   ]
  },
  {
   "cell_type": "code",
<<<<<<< HEAD
   "outputs": [
    {
=======
   "execution_count": 1,
   "id": "initial_id",
   "metadata": {
    "ExecuteTime": {
     "end_time": "2024-07-16T18:14:00.899288Z",
     "start_time": "2024-07-16T18:13:53.210398Z"
    },
    "collapsed": true
   },
   "outputs": [
    {
     "name": "stderr",
     "output_type": "stream",
     "text": [
      "/Users/AdamHarris/miniconda3/envs/pytorch_env/lib/python3.11/site-packages/torchvision/io/image.py:13: UserWarning: Failed to load image Python extension: 'dlopen(/Users/AdamHarris/miniconda3/envs/pytorch_env/lib/python3.11/site-packages/torchvision/image.so, 0x0006): Symbol not found: __ZN3c1017RegisterOperatorsD1Ev\n",
      "  Referenced from: <E03EDA44-89AE-3115-9796-62BA9E0E2EDE> /Users/AdamHarris/miniconda3/envs/pytorch_env/lib/python3.11/site-packages/torchvision/image.so\n",
      "  Expected in:     <E943EB88-577E-37A4-93E1-5DAFE97B5744> /Users/AdamHarris/miniconda3/envs/pytorch_env/lib/python3.11/site-packages/torch/lib/libtorch_cpu.dylib'If you don't plan on using image functionality from `torchvision.io`, you can ignore this warning. Otherwise, there might be something wrong with your environment. Did you have `libjpeg` or `libpng` installed before building `torchvision` from source?\n",
      "  warn(\n"
     ]
    },
    {
>>>>>>> 0e9e3b843afe675adcdb4b9d8d04aeba18211f02
     "name": "stdout",
     "output_type": "stream",
     "text": [
      "Random seed 2021 has been set.\n",
      "GPU is not enabled in this notebook. \n",
      "If you want to enable it, in the menu under `Runtime` -> \n",
      "`Hardware accelerator.` and select `GPU` from the dropdown menu\n"
     ]
<<<<<<< HEAD
=======
    },
    {
     "name": "stderr",
     "output_type": "stream",
     "text": [
      "/Users/AdamHarris/miniconda3/envs/pytorch_env/lib/python3.11/site-packages/tqdm/auto.py:21: TqdmWarning: IProgress not found. Please update jupyter and ipywidgets. See https://ipywidgets.readthedocs.io/en/stable/user_install.html\n",
      "  from .autonotebook import tqdm as notebook_tqdm\n"
     ]
>>>>>>> 0e9e3b843afe675adcdb4b9d8d04aeba18211f02
    }
   ],
   "source": [
    "#!pip install torchvision --quiet\n",
    "\n",
    "import random\n",
    "import numpy as np\n",
    "import pandas as pd\n",
    "import matplotlib.pyplot as plt\n",
    "\n",
    "# PyTorch libraries\n",
    "import torch\n",
    "import nlp_nets as nlp\n",
    "from torch import nn\n",
    "import torch.optim as optim\n",
    "from os.path import join as opj\n",
    "from torch.utils.data import DataLoader, TensorDataset, random_split\n",
    "from tqdm.auto import tqdm"
<<<<<<< HEAD
   ],
   "metadata": {
    "collapsed": true,
    "ExecuteTime": {
     "end_time": "2024-07-17T08:02:07.435252Z",
     "start_time": "2024-07-17T08:02:00.965825Z"
    }
   },
   "id": "initial_id",
   "execution_count": 1
=======
   ]
>>>>>>> 0e9e3b843afe675adcdb4b9d8d04aeba18211f02
  },
  {
   "cell_type": "markdown",
   "id": "87420d7e59688f52",
   "metadata": {
    "collapsed": false
   },
   "source": [
    "Set up seeds"
   ]
  },
  {
   "cell_type": "code",
   "execution_count": 2,
   "id": "f1a4bd33f4d1be1c",
   "metadata": {
    "ExecuteTime": {
     "end_time": "2024-07-16T18:14:00.940715Z",
     "start_time": "2024-07-16T18:14:00.920635Z"
    },
    "collapsed": false
   },
   "outputs": [
    {
     "name": "stdout",
     "output_type": "stream",
     "text": [
      "Random seed 5 has been set.\n",
      "GPU is not enabled in this notebook. \n",
      "If you want to enable it, in the menu under `Runtime` -> \n",
      "`Hardware accelerator.` and select `GPU` from the dropdown menu\n"
     ]
    }
   ],
   "source": [
    "SEED = 5\n",
    "nlp.set_seed(SEED)\n",
    "DEVICE = nlp.set_device()\n",
    "g_seed = torch.Generator()\n",
    "#g_seed.manual_seed(SEED)"
<<<<<<< HEAD
   ],
   "metadata": {
    "collapsed": false,
    "ExecuteTime": {
     "end_time": "2024-07-17T08:07:21.135844Z",
     "start_time": "2024-07-17T08:07:21.115145Z"
    }
   },
   "id": "f1a4bd33f4d1be1c",
   "execution_count": 10
=======
   ]
>>>>>>> 0e9e3b843afe675adcdb4b9d8d04aeba18211f02
  },
  {
   "cell_type": "markdown",
   "id": "260d5187cdd60d05",
   "metadata": {
    "collapsed": false
   },
   "source": [
    "Load and process data"
   ]
  },
  {
   "cell_type": "code",
   "execution_count": 4,
   "id": "2582082265616184",
   "metadata": {
    "ExecuteTime": {
     "end_time": "2024-07-16T18:19:48.618483Z",
     "start_time": "2024-07-16T18:19:48.578547Z"
    },
    "collapsed": false
   },
   "outputs": [
    {
     "name": "stdout",
     "output_type": "stream",
     "text": [
      "10\n",
      "200\n"
     ]
    }
   ],
   "source": [
    "# specify PATH\n",
    "folder_dir = opj('/', 'Users', 'doctordu', 'Documents', 'Github', 'Neuromatch_NLP', 'dataset')\n",
    "folder_dir = r'/Users/AdamHarris/Documents/neuromatch_nlp/Neuromatch_NLP/dataset'\n",
    "# load emotion scores\n",
    "emo_arr_fake = np.load(opj(folder_dir, 'fake_emotion_array.npy'))\n",
    "emo_arr_true = np.load(opj(folder_dir, 'true_emotion_array.npy'))\n",
    "emo_data_array = np.concatenate((emo_arr_fake, emo_arr_true))\n",
    "nFeatures_emo = emo_data_array.shape[1]\n",
    "arr_labels = np.load(opj(folder_dir, 'labels_all.npy'))\n",
    "\n",
    "# load word embeddings\n",
    "embed_data_array = np.load(opj(folder_dir, 'doc2vec_embeddings_200.npy'))\n",
    "nFeatures_embed = embed_data_array.shape[1]\n",
    "\n",
    "# convert to tensors\n",
    "emo_data_torch = torch.from_numpy(emo_data_array).to(DEVICE)\n",
    "embed_data_torch = torch.from_numpy(embed_data_array).to(DEVICE)\n",
    "merged_data_torch = torch.cat((emo_data_torch, embed_data_torch),1)\n",
    "labels_torch = torch.from_numpy(arr_labels).to(DEVICE)\n",
    "\n",
    "print(nFeatures_emo)\n",
    "print(nFeatures_embed)\n",
    "\n"
<<<<<<< HEAD
   ],
   "metadata": {
    "collapsed": false,
    "ExecuteTime": {
     "end_time": "2024-07-17T08:02:14.457138Z",
     "start_time": "2024-07-17T08:02:14.333134Z"
    }
   },
   "id": "2582082265616184",
   "execution_count": 3
=======
   ]
>>>>>>> 0e9e3b843afe675adcdb4b9d8d04aeba18211f02
  },
  {
   "cell_type": "markdown",
   "id": "12b02961aa89519",
   "metadata": {
    "collapsed": false
   },
   "source": [
    "Pack data into loaders"
   ]
  },
  {
   "cell_type": "code",
   "execution_count": 5,
   "id": "a6dba8dcdec42d92",
   "metadata": {
    "ExecuteTime": {
     "end_time": "2024-07-16T18:21:42.378766Z",
     "start_time": "2024-07-16T18:21:42.355152Z"
    },
    "collapsed": false
   },
   "outputs": [
    {
     "name": "stdout",
     "output_type": "stream",
     "text": [
      "None\n"
     ]
    }
   ],
   "source": [
    "batch_size = 6000\n",
    "train_size = int(0.6 * len(emo_data_torch))\n",
    "val_size = int(0.2 * len(emo_data_torch))\n",
    "test_size = len(emo_data_torch) - train_size - val_size\n",
    "\n",
    "\n",
<<<<<<< HEAD
    "emo_train_loader, emo_val_loader, emo_test_loader = nlp.load_data(emo_data_torch, labels_torch, [train_size, val_size, test_size], batch_size, g_seed)\n",
    "embed_train_loader, embed_val_loader, embed_test_loader = nlp.load_data(embed_data_torch, labels_torch, [train_size, val_size, test_size], batch_size, g_seed)\n",
    "merged_train_loader, merged_val_loader, merged_test_loader = nlp.load_data(merged_data_torch, labels_torch, [train_size, val_size, test_size], batch_size, g_seed)\n",
    "    "
   ],
   "metadata": {
    "collapsed": false,
    "ExecuteTime": {
     "end_time": "2024-07-17T08:05:02.179977Z",
     "start_time": "2024-07-17T08:05:02.156195Z"
    }
   },
   "id": "a6dba8dcdec42d92",
   "execution_count": 8
=======
    "# Load emo data into loaders\n",
    "emo_dataset = TensorDataset(emo_data_torch, labels_torch)\n",
    "emo_train_dataset, emo_val_dataset, emo_test_dataset = random_split(emo_dataset, [train_size, val_size, test_size])\n",
    "\n",
    "emo_test_loader = DataLoader(emo_test_dataset, batch_size=batch_size,\n",
    "                         shuffle=False, num_workers=0,\n",
    "                         worker_init_fn=nlp.seed_worker,\n",
    "                         generator=g_seed)\n",
    "\n",
    "emo_val_loader = DataLoader(emo_val_dataset, batch_size=batch_size, drop_last=True,\n",
    "                          shuffle=True, num_workers=0,\n",
    "                          worker_init_fn=nlp.seed_worker,\n",
    "                          generator=g_seed)\n",
    "\n",
    "emo_train_loader = DataLoader(emo_train_dataset, batch_size=batch_size, drop_last=True,\n",
    "                          shuffle=True, num_workers=0,\n",
    "                          worker_init_fn=nlp.seed_worker,\n",
    "                          generator=g_seed)\n",
    "\n",
    "\n",
    "# Load embedding data into loaders\n",
    "embed_dataset = TensorDataset(embed_data_torch, labels_torch)\n",
    "embed_train_dataset, embed_val_dataset, embed_test_dataset = random_split(embed_dataset, [train_size, val_size, test_size])\n",
    "\n",
    "embed_test_loader = DataLoader(embed_test_dataset, batch_size=batch_size,\n",
    "                         shuffle=False, num_workers=0,\n",
    "                         worker_init_fn=nlp.seed_worker,\n",
    "                         generator=g_seed)\n",
    "\n",
    "embed_val_loader = DataLoader(embed_val_dataset, batch_size=batch_size, drop_last=True,\n",
    "                          shuffle=True, num_workers=0,\n",
    "                          worker_init_fn=nlp.seed_worker,\n",
    "                          generator=g_seed)\n",
    "\n",
    "embed_train_loader = DataLoader(embed_train_dataset, batch_size=batch_size, drop_last=True,\n",
    "                          shuffle=True, num_workers=0,\n",
    "                          worker_init_fn=nlp.seed_worker,\n",
    "                          generator=g_seed)\n",
    "\n",
    "# Load merged data into loaders\n",
    "merged_dataset = TensorDataset(merged_data_torch, labels_torch)\n",
    "merged_train_dataset, merged_val_dataset, merged_test_dataset = random_split(merged_dataset, [train_size, val_size, test_size])\n",
    "\n",
    "merged_test_loader = DataLoader(merged_test_dataset, batch_size=batch_size,\n",
    "                         shuffle=False, num_workers=0,\n",
    "                         worker_init_fn=nlp.seed_worker,\n",
    "                         generator=g_seed)\n",
    "\n",
    "merged_val_loader = DataLoader(merged_val_dataset, batch_size=batch_size, drop_last=True,\n",
    "                          shuffle=True, num_workers=0,\n",
    "                          worker_init_fn=nlp.seed_worker,\n",
    "                          generator=g_seed)\n",
    "\n",
    "merged_train_loader = DataLoader(merged_train_dataset, batch_size=batch_size, drop_last=True,\n",
    "                          shuffle=True, num_workers=0,\n",
    "                          worker_init_fn=nlp.seed_worker,\n",
    "                          generator=g_seed)\n",
    "\n",
    "print(emo_dataset.tensors[0].shape)\n",
    "print(embed_dataset.tensors[0].shape)\n",
    "print(merged_dataset.tensors[0].shape)"
   ]
>>>>>>> 0e9e3b843afe675adcdb4b9d8d04aeba18211f02
  },
  {
   "cell_type": "markdown",
   "id": "9abcbb1d276dbd6a",
   "metadata": {
    "collapsed": false
   },
   "source": [
    "Run MLP on the emotion scores"
   ]
  },
  {
   "cell_type": "code",
   "execution_count": 6,
   "id": "6a67736f7a3c4396",
   "metadata": {
    "ExecuteTime": {
     "end_time": "2024-07-16T18:18:33.880872Z",
     "start_time": "2024-07-16T18:14:01.043472Z"
    },
    "collapsed": false
   },
   "outputs": [
    {
     "name": "stdout",
     "output_type": "stream",
     "text": [
      "Random seed 5 has been set.\n"
     ]
    },
    {
<<<<<<< HEAD
     "data": {
      "text/plain": "  0%|          | 0/1000 [00:00<?, ?it/s]",
      "application/vnd.jupyter.widget-view+json": {
       "version_major": 2,
       "version_minor": 0,
       "model_id": "9a3dfe07335340f892f2cb127f3b3efd"
      }
     },
     "metadata": {},
     "output_type": "display_data"
    },
    {
     "ename": "KeyboardInterrupt",
     "evalue": "",
     "output_type": "error",
     "traceback": [
      "\u001B[0;31m---------------------------------------------------------------------------\u001B[0m",
      "\u001B[0;31mKeyboardInterrupt\u001B[0m                         Traceback (most recent call last)",
      "Cell \u001B[0;32mIn[11], line 7\u001B[0m\n\u001B[1;32m      4\u001B[0m optimizer \u001B[38;5;241m=\u001B[39m optim\u001B[38;5;241m.\u001B[39mAdam(net\u001B[38;5;241m.\u001B[39mparameters(), lr\u001B[38;5;241m=\u001B[39m\u001B[38;5;241m1e-3\u001B[39m)\n\u001B[1;32m      5\u001B[0m num_epochs \u001B[38;5;241m=\u001B[39m \u001B[38;5;241m1000\u001B[39m\n\u001B[0;32m----> 7\u001B[0m _, _ \u001B[38;5;241m=\u001B[39m nlp\u001B[38;5;241m.\u001B[39mtrain_test_classification(net, criterion, optimizer, emo_train_loader,\n\u001B[1;32m      8\u001B[0m                                  emo_val_loader, num_epochs\u001B[38;5;241m=\u001B[39mnum_epochs,\n\u001B[1;32m      9\u001B[0m                                  training_plot\u001B[38;5;241m=\u001B[39m\u001B[38;5;28;01mTrue\u001B[39;00m, device\u001B[38;5;241m=\u001B[39mDEVICE)\n",
      "File \u001B[0;32m~/Documents/Github/Neuromatch_NLP/Code/nlp_nets.py:195\u001B[0m, in \u001B[0;36mtrain_test_classification\u001B[0;34m(net, criterion, optimizer, train_loader, test_loader, num_epochs, verbose, training_plot, device)\u001B[0m\n\u001B[1;32m    193\u001B[0m \u001B[38;5;28;01mfor\u001B[39;00m epoch \u001B[38;5;129;01min\u001B[39;00m tqdm(\u001B[38;5;28mrange\u001B[39m(num_epochs)):  \u001B[38;5;66;03m# Loop over the dataset multiple times\u001B[39;00m\n\u001B[1;32m    194\u001B[0m   running_loss \u001B[38;5;241m=\u001B[39m \u001B[38;5;241m0.0\u001B[39m\n\u001B[0;32m--> 195\u001B[0m   \u001B[38;5;28;01mfor\u001B[39;00m i, data \u001B[38;5;129;01min\u001B[39;00m \u001B[38;5;28menumerate\u001B[39m(train_loader, \u001B[38;5;241m0\u001B[39m):\n\u001B[1;32m    196\u001B[0m     \u001B[38;5;66;03m# Get the inputs; data is a list of [inputs, labels]\u001B[39;00m\n\u001B[1;32m    197\u001B[0m     inputs, labels \u001B[38;5;241m=\u001B[39m data\n\u001B[1;32m    198\u001B[0m     inputs \u001B[38;5;241m=\u001B[39m inputs\u001B[38;5;241m.\u001B[39mto(device)\u001B[38;5;241m.\u001B[39mfloat()\n",
      "File \u001B[0;32m~/anaconda3/lib/python3.11/site-packages/torch/utils/data/dataloader.py:631\u001B[0m, in \u001B[0;36m_BaseDataLoaderIter.__next__\u001B[0;34m(self)\u001B[0m\n\u001B[1;32m    628\u001B[0m \u001B[38;5;28;01mif\u001B[39;00m \u001B[38;5;28mself\u001B[39m\u001B[38;5;241m.\u001B[39m_sampler_iter \u001B[38;5;129;01mis\u001B[39;00m \u001B[38;5;28;01mNone\u001B[39;00m:\n\u001B[1;32m    629\u001B[0m     \u001B[38;5;66;03m# TODO(https://github.com/pytorch/pytorch/issues/76750)\u001B[39;00m\n\u001B[1;32m    630\u001B[0m     \u001B[38;5;28mself\u001B[39m\u001B[38;5;241m.\u001B[39m_reset()  \u001B[38;5;66;03m# type: ignore[call-arg]\u001B[39;00m\n\u001B[0;32m--> 631\u001B[0m data \u001B[38;5;241m=\u001B[39m \u001B[38;5;28mself\u001B[39m\u001B[38;5;241m.\u001B[39m_next_data()\n\u001B[1;32m    632\u001B[0m \u001B[38;5;28mself\u001B[39m\u001B[38;5;241m.\u001B[39m_num_yielded \u001B[38;5;241m+\u001B[39m\u001B[38;5;241m=\u001B[39m \u001B[38;5;241m1\u001B[39m\n\u001B[1;32m    633\u001B[0m \u001B[38;5;28;01mif\u001B[39;00m \u001B[38;5;28mself\u001B[39m\u001B[38;5;241m.\u001B[39m_dataset_kind \u001B[38;5;241m==\u001B[39m _DatasetKind\u001B[38;5;241m.\u001B[39mIterable \u001B[38;5;129;01mand\u001B[39;00m \\\n\u001B[1;32m    634\u001B[0m         \u001B[38;5;28mself\u001B[39m\u001B[38;5;241m.\u001B[39m_IterableDataset_len_called \u001B[38;5;129;01mis\u001B[39;00m \u001B[38;5;129;01mnot\u001B[39;00m \u001B[38;5;28;01mNone\u001B[39;00m \u001B[38;5;129;01mand\u001B[39;00m \\\n\u001B[1;32m    635\u001B[0m         \u001B[38;5;28mself\u001B[39m\u001B[38;5;241m.\u001B[39m_num_yielded \u001B[38;5;241m>\u001B[39m \u001B[38;5;28mself\u001B[39m\u001B[38;5;241m.\u001B[39m_IterableDataset_len_called:\n",
      "File \u001B[0;32m~/anaconda3/lib/python3.11/site-packages/torch/utils/data/dataloader.py:675\u001B[0m, in \u001B[0;36m_SingleProcessDataLoaderIter._next_data\u001B[0;34m(self)\u001B[0m\n\u001B[1;32m    673\u001B[0m \u001B[38;5;28;01mdef\u001B[39;00m \u001B[38;5;21m_next_data\u001B[39m(\u001B[38;5;28mself\u001B[39m):\n\u001B[1;32m    674\u001B[0m     index \u001B[38;5;241m=\u001B[39m \u001B[38;5;28mself\u001B[39m\u001B[38;5;241m.\u001B[39m_next_index()  \u001B[38;5;66;03m# may raise StopIteration\u001B[39;00m\n\u001B[0;32m--> 675\u001B[0m     data \u001B[38;5;241m=\u001B[39m \u001B[38;5;28mself\u001B[39m\u001B[38;5;241m.\u001B[39m_dataset_fetcher\u001B[38;5;241m.\u001B[39mfetch(index)  \u001B[38;5;66;03m# may raise StopIteration\u001B[39;00m\n\u001B[1;32m    676\u001B[0m     \u001B[38;5;28;01mif\u001B[39;00m \u001B[38;5;28mself\u001B[39m\u001B[38;5;241m.\u001B[39m_pin_memory:\n\u001B[1;32m    677\u001B[0m         data \u001B[38;5;241m=\u001B[39m _utils\u001B[38;5;241m.\u001B[39mpin_memory\u001B[38;5;241m.\u001B[39mpin_memory(data, \u001B[38;5;28mself\u001B[39m\u001B[38;5;241m.\u001B[39m_pin_memory_device)\n",
      "File \u001B[0;32m~/anaconda3/lib/python3.11/site-packages/torch/utils/data/_utils/fetch.py:54\u001B[0m, in \u001B[0;36m_MapDatasetFetcher.fetch\u001B[0;34m(self, possibly_batched_index)\u001B[0m\n\u001B[1;32m     52\u001B[0m \u001B[38;5;28;01melse\u001B[39;00m:\n\u001B[1;32m     53\u001B[0m     data \u001B[38;5;241m=\u001B[39m \u001B[38;5;28mself\u001B[39m\u001B[38;5;241m.\u001B[39mdataset[possibly_batched_index]\n\u001B[0;32m---> 54\u001B[0m \u001B[38;5;28;01mreturn\u001B[39;00m \u001B[38;5;28mself\u001B[39m\u001B[38;5;241m.\u001B[39mcollate_fn(data)\n",
      "File \u001B[0;32m~/anaconda3/lib/python3.11/site-packages/torch/utils/data/_utils/collate.py:277\u001B[0m, in \u001B[0;36mdefault_collate\u001B[0;34m(batch)\u001B[0m\n\u001B[1;32m    216\u001B[0m \u001B[38;5;28;01mdef\u001B[39;00m \u001B[38;5;21mdefault_collate\u001B[39m(batch):\n\u001B[1;32m    217\u001B[0m \u001B[38;5;250m    \u001B[39m\u001B[38;5;124mr\u001B[39m\u001B[38;5;124;03m\"\"\"\u001B[39;00m\n\u001B[1;32m    218\u001B[0m \u001B[38;5;124;03m    Take in a batch of data and put the elements within the batch into a tensor with an additional outer dimension - batch size.\u001B[39;00m\n\u001B[1;32m    219\u001B[0m \n\u001B[0;32m   (...)\u001B[0m\n\u001B[1;32m    275\u001B[0m \u001B[38;5;124;03m        >>> default_collate(batch)  # Handle `CustomType` automatically\u001B[39;00m\n\u001B[1;32m    276\u001B[0m \u001B[38;5;124;03m    \"\"\"\u001B[39;00m\n\u001B[0;32m--> 277\u001B[0m     \u001B[38;5;28;01mreturn\u001B[39;00m collate(batch, collate_fn_map\u001B[38;5;241m=\u001B[39mdefault_collate_fn_map)\n",
      "File \u001B[0;32m~/anaconda3/lib/python3.11/site-packages/torch/utils/data/_utils/collate.py:144\u001B[0m, in \u001B[0;36mcollate\u001B[0;34m(batch, collate_fn_map)\u001B[0m\n\u001B[1;32m    141\u001B[0m transposed \u001B[38;5;241m=\u001B[39m \u001B[38;5;28mlist\u001B[39m(\u001B[38;5;28mzip\u001B[39m(\u001B[38;5;241m*\u001B[39mbatch))  \u001B[38;5;66;03m# It may be accessed twice, so we use a list.\u001B[39;00m\n\u001B[1;32m    143\u001B[0m \u001B[38;5;28;01mif\u001B[39;00m \u001B[38;5;28misinstance\u001B[39m(elem, \u001B[38;5;28mtuple\u001B[39m):\n\u001B[0;32m--> 144\u001B[0m     \u001B[38;5;28;01mreturn\u001B[39;00m [collate(samples, collate_fn_map\u001B[38;5;241m=\u001B[39mcollate_fn_map) \u001B[38;5;28;01mfor\u001B[39;00m samples \u001B[38;5;129;01min\u001B[39;00m transposed]  \u001B[38;5;66;03m# Backwards compatibility.\u001B[39;00m\n\u001B[1;32m    145\u001B[0m \u001B[38;5;28;01melse\u001B[39;00m:\n\u001B[1;32m    146\u001B[0m     \u001B[38;5;28;01mtry\u001B[39;00m:\n",
      "File \u001B[0;32m~/anaconda3/lib/python3.11/site-packages/torch/utils/data/_utils/collate.py:144\u001B[0m, in \u001B[0;36m<listcomp>\u001B[0;34m(.0)\u001B[0m\n\u001B[1;32m    141\u001B[0m transposed \u001B[38;5;241m=\u001B[39m \u001B[38;5;28mlist\u001B[39m(\u001B[38;5;28mzip\u001B[39m(\u001B[38;5;241m*\u001B[39mbatch))  \u001B[38;5;66;03m# It may be accessed twice, so we use a list.\u001B[39;00m\n\u001B[1;32m    143\u001B[0m \u001B[38;5;28;01mif\u001B[39;00m \u001B[38;5;28misinstance\u001B[39m(elem, \u001B[38;5;28mtuple\u001B[39m):\n\u001B[0;32m--> 144\u001B[0m     \u001B[38;5;28;01mreturn\u001B[39;00m [collate(samples, collate_fn_map\u001B[38;5;241m=\u001B[39mcollate_fn_map) \u001B[38;5;28;01mfor\u001B[39;00m samples \u001B[38;5;129;01min\u001B[39;00m transposed]  \u001B[38;5;66;03m# Backwards compatibility.\u001B[39;00m\n\u001B[1;32m    145\u001B[0m \u001B[38;5;28;01melse\u001B[39;00m:\n\u001B[1;32m    146\u001B[0m     \u001B[38;5;28;01mtry\u001B[39;00m:\n",
      "File \u001B[0;32m~/anaconda3/lib/python3.11/site-packages/torch/utils/data/_utils/collate.py:121\u001B[0m, in \u001B[0;36mcollate\u001B[0;34m(batch, collate_fn_map)\u001B[0m\n\u001B[1;32m    119\u001B[0m \u001B[38;5;28;01mif\u001B[39;00m collate_fn_map \u001B[38;5;129;01mis\u001B[39;00m \u001B[38;5;129;01mnot\u001B[39;00m \u001B[38;5;28;01mNone\u001B[39;00m:\n\u001B[1;32m    120\u001B[0m     \u001B[38;5;28;01mif\u001B[39;00m elem_type \u001B[38;5;129;01min\u001B[39;00m collate_fn_map:\n\u001B[0;32m--> 121\u001B[0m         \u001B[38;5;28;01mreturn\u001B[39;00m collate_fn_map[elem_type](batch, collate_fn_map\u001B[38;5;241m=\u001B[39mcollate_fn_map)\n\u001B[1;32m    123\u001B[0m     \u001B[38;5;28;01mfor\u001B[39;00m collate_type \u001B[38;5;129;01min\u001B[39;00m collate_fn_map:\n\u001B[1;32m    124\u001B[0m         \u001B[38;5;28;01mif\u001B[39;00m \u001B[38;5;28misinstance\u001B[39m(elem, collate_type):\n",
      "File \u001B[0;32m~/anaconda3/lib/python3.11/site-packages/torch/utils/data/_utils/collate.py:174\u001B[0m, in \u001B[0;36mcollate_tensor_fn\u001B[0;34m(batch, collate_fn_map)\u001B[0m\n\u001B[1;32m    172\u001B[0m     storage \u001B[38;5;241m=\u001B[39m elem\u001B[38;5;241m.\u001B[39m_typed_storage()\u001B[38;5;241m.\u001B[39m_new_shared(numel, device\u001B[38;5;241m=\u001B[39melem\u001B[38;5;241m.\u001B[39mdevice)\n\u001B[1;32m    173\u001B[0m     out \u001B[38;5;241m=\u001B[39m elem\u001B[38;5;241m.\u001B[39mnew(storage)\u001B[38;5;241m.\u001B[39mresize_(\u001B[38;5;28mlen\u001B[39m(batch), \u001B[38;5;241m*\u001B[39m\u001B[38;5;28mlist\u001B[39m(elem\u001B[38;5;241m.\u001B[39msize()))\n\u001B[0;32m--> 174\u001B[0m \u001B[38;5;28;01mreturn\u001B[39;00m torch\u001B[38;5;241m.\u001B[39mstack(batch, \u001B[38;5;241m0\u001B[39m, out\u001B[38;5;241m=\u001B[39mout)\n",
      "\u001B[0;31mKeyboardInterrupt\u001B[0m: "
=======
     "name": "stderr",
     "output_type": "stream",
     "text": [
      " 31%|███       | 306/1000 [01:25<03:02,  3.81it/s]"
>>>>>>> 0e9e3b843afe675adcdb4b9d8d04aeba18211f02
     ]
    }
   ],
   "source": [
    "nlp.set_seed(SEED)\n",
    "net = nlp.Net('ReLU()', nFeatures_emo, [50], 2).to(DEVICE)\n",
    "criterion = nn.CrossEntropyLoss()\n",
    "optimizer = optim.Adam(net.parameters(), lr=1e-3)\n",
    "num_epochs = 1000\n",
    "\n",
    "_, _ = nlp.train_test_classification(net, criterion, optimizer, emo_train_loader,\n",
    "                                 emo_val_loader, num_epochs=num_epochs,\n",
    "                                 training_plot=True, device=DEVICE)"
<<<<<<< HEAD
   ],
   "metadata": {
    "collapsed": false,
    "ExecuteTime": {
     "end_time": "2024-07-17T08:08:45.709465Z",
     "start_time": "2024-07-17T08:07:48.415394Z"
    }
   },
   "id": "6a67736f7a3c4396",
   "execution_count": 11
=======
   ]
>>>>>>> 0e9e3b843afe675adcdb4b9d8d04aeba18211f02
  },
  {
   "cell_type": "markdown",
   "id": "6089fd92045c2698",
   "metadata": {
    "collapsed": false
   },
   "source": [
    "Run MLP on word embeddings"
   ]
  },
  {
   "cell_type": "code",
   "execution_count": 54,
   "id": "a88fb72597f19efb",
   "metadata": {
    "ExecuteTime": {
     "end_time": "2024-07-16T18:19:48.458912Z",
     "start_time": "2024-07-16T18:18:33.883305Z"
    },
    "collapsed": false
   },
   "outputs": [
    {
     "name": "stdout",
     "output_type": "stream",
     "text": [
      "Random seed 1228472244 has been set.\n"
     ]
    },
    {
     "data": {
      "application/vnd.jupyter.widget-view+json": {
       "model_id": "032357ec42b54c309f4d8b140f19d2ea",
       "version_major": 2,
       "version_minor": 0
      },
      "text/plain": [
       "  0%|          | 0/50 [00:00<?, ?it/s]"
      ]
     },
     "metadata": {},
     "output_type": "display_data"
    },
    {
     "name": "stdout",
     "output_type": "stream",
     "text": [
      "Accuracy on the 24000 training samples: 99.99\n",
      "Accuracy on the 6000 testing samples: 96.90\n"
     ]
    },
    {
     "data": {
      "image/png": "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",
      "text/plain": [
       "<Figure size 640x480 with 1 Axes>"
      ]
     },
     "metadata": {},
     "output_type": "display_data"
    }
   ],
   "source": [
    "nlp.set_seed(SEED)\n",
    "net = nlp.Net('ReLU()', nFeatures_embed, [1000, 1000], 2).to(DEVICE)\n",
    "criterion = nn.CrossEntropyLoss()\n",
    "optimizer = optim.Adam(net.parameters(), lr=1e-3)\n",
    "num_epochs = 50\n",
    "\n",
    "_, _ = nlp.train_test_classification(net, criterion, optimizer, embed_train_loader,\n",
    "                                 embed_val_loader, num_epochs=num_epochs,\n",
    "                                 training_plot=True, device=DEVICE)"
   ]
  },
  {
   "cell_type": "markdown",
   "id": "1e183ef7c2656bea",
   "metadata": {
    "collapsed": false
   },
   "source": [
    "Run MLP on merged features (emotional scores + embedding)"
   ]
  },
  {
   "cell_type": "code",
   "execution_count": 58,
   "id": "b9fcabd56109cefe",
   "metadata": {
    "ExecuteTime": {
     "end_time": "2024-07-16T18:27:48.910077Z",
     "start_time": "2024-07-16T18:26:59.560894Z"
    },
    "collapsed": false
   },
   "outputs": [
    {
     "name": "stdout",
     "output_type": "stream",
     "text": [
      "Random seed 278341638 has been set.\n"
     ]
    },
    {
     "data": {
      "application/vnd.jupyter.widget-view+json": {
       "model_id": "6bcfc61781154e22b3ff82a615655d8c",
       "version_major": 2,
       "version_minor": 0
      },
      "text/plain": [
       "  0%|          | 0/50 [00:00<?, ?it/s]"
      ]
     },
     "metadata": {},
     "output_type": "display_data"
    },
    {
     "name": "stdout",
     "output_type": "stream",
     "text": [
      "Accuracy on the 24000 training samples: 100.00\n",
      "Accuracy on the 6000 testing samples: 97.02\n"
     ]
    },
    {
     "data": {
      "image/png": "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",
      "text/plain": [
       "<Figure size 640x480 with 1 Axes>"
      ]
     },
     "metadata": {},
     "output_type": "display_data"
    }
   ],
   "source": [
    "nlp.set_seed(SEED)\n",
    "net = nlp.Net('ReLU()', nFeatures_embed+nFeatures_emo, [1000, 1000], 2).to(DEVICE)\n",
    "criterion = nn.CrossEntropyLoss()\n",
    "optimizer = optim.Adam(net.parameters(), lr=1e-3)\n",
    "num_epochs = 50\n",
    "\n",
    "_, _ = nlp.train_test_classification(net, criterion, optimizer, merged_train_loader,\n",
    "                                 merged_val_loader, num_epochs=num_epochs,\n",
    "                                 training_plot=True, device=DEVICE)\n"
   ]
  },
  {
   "cell_type": "code",
   "execution_count": null,
   "id": "341e5293c4a91a21",
   "metadata": {
    "collapsed": false
   },
   "outputs": [],
   "source": []
  }
 ],
 "metadata": {
  "kernelspec": {
   "display_name": "Python 3",
   "language": "python",
   "name": "python3"
  },
  "language_info": {
   "codemirror_mode": {
    "name": "ipython",
    "version": 3
   },
   "file_extension": ".py",
   "mimetype": "text/x-python",
   "name": "python",
   "nbconvert_exporter": "python",
   "pygments_lexer": "ipython3",
   "version": "3.11.9"
  }
 },
 "nbformat": 4,
 "nbformat_minor": 5
}
